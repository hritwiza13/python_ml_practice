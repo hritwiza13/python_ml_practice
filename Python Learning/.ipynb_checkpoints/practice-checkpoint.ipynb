{
 "cells": [
  {
   "cell_type": "code",
   "execution_count": 1,
   "id": "42237562-a5ec-420e-a10d-4711aab3cd1d",
   "metadata": {},
   "outputs": [
    {
     "name": "stdout",
     "output_type": "stream",
     "text": [
      "Shreya\n",
      "shreya  gupta 22\n",
      "22\n"
     ]
    }
   ],
   "source": [
    "#output ways\n",
    "\n",
    "print (\"Shreya\")   # simple string output\n",
    "print(\"shreya  \"+\"gupta\",22)   #string concatenation and output of integer variable\n",
    "print (22) #output of integer variable"
   ]
  },
  {
   "cell_type": "code",
   "execution_count": 2,
   "id": "b703db3e-c51a-426f-ab90-2e5afedb817c",
   "metadata": {},
   "outputs": [],
   "source": [
    "#variable building \n",
    "\n",
    "name = \"shreya\" #string variable\n",
    "age = 22 #integer variable\n",
    "price = 10.5 #float variable\n"
   ]
  },
  {
   "cell_type": "code",
   "execution_count": 3,
   "id": "51e70253-0e03-49f0-83df-1a3a5dee9b99",
   "metadata": {},
   "outputs": [
    {
     "name": "stdout",
     "output_type": "stream",
     "text": [
      "My name is  shreya\n",
      "22\n"
     ]
    }
   ],
   "source": [
    "# output of variables\n",
    "print (\"My name is \", name ) #output of string variable\n",
    "age2 = age \n",
    "print (age2) #output of integer variable"
   ]
  },
  {
   "cell_type": "code",
   "execution_count": 4,
   "id": "b8511cd7-3bab-49e3-8b21-9a2e75d99fb6",
   "metadata": {},
   "outputs": [
    {
     "name": "stdout",
     "output_type": "stream",
     "text": [
      "130\n"
     ]
    }
   ],
   "source": [
    "# add two numbers\n",
    "\n",
    "a=45\n",
    "b=85\n",
    "print(a+b)"
   ]
  },
  {
   "cell_type": "code",
   "execution_count": 5,
   "id": "61eed9da-8e7f-4473-9c39-68e09c475539",
   "metadata": {},
   "outputs": [
    {
     "name": "stdout",
     "output_type": "stream",
     "text": [
      "130\n",
      "-40\n",
      "3825\n",
      "0.5294117647058824\n",
      "45\n",
      "333475299217836818538000898181106665229140523414065655135861579328062996798931325848731815598180211641932135790966640342958271503448486328125\n"
     ]
    }
   ],
   "source": [
    "# Arithmetic operations\n",
    "\n",
    "print (a+b) # addition\n",
    "print (a-b) # subtraction\n",
    "print (a*b) # multiplication\n",
    "print (a/b) #division\n",
    "print (a%b) # modulus\n",
    "print (a**b) #power"
   ]
  },
  {
   "cell_type": "code",
   "execution_count": 6,
   "id": "550ef16e-1442-4a7d-81de-bc0d04a4d03d",
   "metadata": {},
   "outputs": [
    {
     "name": "stdout",
     "output_type": "stream",
     "text": [
      "False\n",
      "True\n",
      "False\n",
      "True\n",
      "False\n",
      "True\n"
     ]
    }
   ],
   "source": [
    "#Relational operators\n",
    "\n",
    "print (a==b) # equality\n",
    "print (a!=b) #inequality\n",
    "print (a>b) # greater than\n",
    "print (a<b) # less than\n",
    "print (a>=b) # greater than or equal to\n",
    "print (a<=b) # less than or equal to"
   ]
  },
  {
   "cell_type": "code",
   "execution_count": 7,
   "id": "a9d756c3-5ea1-4b50-a047-7ac57c79760a",
   "metadata": {},
   "outputs": [
    {
     "name": "stdout",
     "output_type": "stream",
     "text": [
      "55\n",
      "45\n",
      "450\n",
      "45.0\n"
     ]
    }
   ],
   "source": [
    "#Assignment operators\n",
    "\n",
    "a += 10\n",
    "print(a)  # or b = a; print(b)\n",
    "a -= 10\n",
    "print(a)  # or b = a; print(b)\n",
    "a *= 10\n",
    "print(a)  # or b = a; print(b)\n",
    "a /= 10\n",
    "print(a)  # or b = a; print(b)\n"
   ]
  },
  {
   "cell_type": "code",
   "execution_count": 8,
   "id": "c66d7b93-be20-4724-bb64-ee96510f9d48",
   "metadata": {},
   "outputs": [
    {
     "name": "stdout",
     "output_type": "stream",
     "text": [
      "85\n",
      "45.0\n",
      "False\n",
      "85\n"
     ]
    }
   ],
   "source": [
    "#Logical operators\n",
    "\n",
    "print (a and b) # and\n",
    "print (a or b) # or\n",
    "print (not a) # not\n",
    "print (a and b or a and not b) # and and or and not"
   ]
  },
  {
   "cell_type": "code",
   "execution_count": 9,
   "id": "267dd4da-56b9-41ff-868f-78758289523f",
   "metadata": {},
   "outputs": [
    {
     "name": "stdout",
     "output_type": "stream",
     "text": [
      "45.0\n",
      "45\n",
      "45.0\n"
     ]
    }
   ],
   "source": [
    "# Type conversion\n",
    "\n",
    "print (str(a)) # string\n",
    "print (int(a)) # integer\n",
    "print (float(a)) # float"
   ]
  },
  {
   "cell_type": "code",
   "execution_count": 10,
   "id": "a02103b0-8106-43e6-9fda-aa750ec57e89",
   "metadata": {},
   "outputs": [
    {
     "name": "stdout",
     "output_type": "stream",
     "text": [
      "45\n",
      "45.0\n"
     ]
    }
   ],
   "source": [
    "#type casting \n",
    "\n",
    "print (int(a)) # integer\n",
    "print (float (a)) # float"
   ]
  },
  {
   "cell_type": "code",
   "execution_count": 11,
   "id": "ccfe1f8f-bce5-4c68-879e-dbc65bfde559",
   "metadata": {},
   "outputs": [
    {
     "name": "stdout",
     "output_type": "stream",
     "text": [
      "Enter your name: h\n",
      "Enter your age: f\n"
     ]
    },
    {
     "name": "stdout",
     "output_type": "stream",
     "text": [
      "Hello, my name is h and I am f years old\n"
     ]
    }
   ],
   "source": [
    "#input function\n",
    "\n",
    "name = input (\"Enter your name:\")\n",
    "age = input (\"Enter your age:\")\n",
    "print (\"Hello, my name is\", name, \"and I am\", age, \"years old\")"
   ]
  },
  {
   "cell_type": "code",
   "execution_count": 12,
   "id": "0ef3f4b5-7963-45a8-a8d6-6c64b60cd606",
   "metadata": {},
   "outputs": [
    {
     "name": "stdout",
     "output_type": "stream",
     "text": [
      "Enter no 1: 4\n",
      "enter no 2 : 5\n"
     ]
    },
    {
     "name": "stdout",
     "output_type": "stream",
     "text": [
      "Sum : 9\n"
     ]
    }
   ],
   "source": [
    "#input 2 numbers and print their sum\n",
    "\n",
    "a =input (\"Enter no 1:\")\n",
    "b= input (\"enter no 2 :\")\n",
    "sum= int (a)+int(b)\n",
    "print (\"Sum :\",sum)"
   ]
  },
  {
   "cell_type": "code",
   "execution_count": 13,
   "id": "83b79de1-b561-4cd7-9783-82aa9f9ae857",
   "metadata": {},
   "outputs": [
    {
     "name": "stdout",
     "output_type": "stream",
     "text": [
      "length: 4\n"
     ]
    },
    {
     "name": "stdout",
     "output_type": "stream",
     "text": [
      "area of square : 16\n"
     ]
    }
   ],
   "source": [
    "#input sides of square and calculate area \n",
    "\n",
    "l= int (input(\"length:\"))\n",
    "area = l*l\n",
    "print (\"area of square :\",area )"
   ]
  },
  {
   "cell_type": "code",
   "execution_count": 14,
   "id": "49617825-11b6-451b-96f7-9a54ab7a91e0",
   "metadata": {},
   "outputs": [
    {
     "name": "stdout",
     "output_type": "stream",
     "text": [
      "enter no 1: 4\n",
      "enter no 2: 5\n"
     ]
    },
    {
     "name": "stdout",
     "output_type": "stream",
     "text": [
      "4.5\n"
     ]
    }
   ],
   "source": [
    "#input two float values and average \n",
    "\n",
    "a=int (input(\"enter no 1:\"))\n",
    "b=int (input(\"enter no 2:\"))\n",
    "average =(a+b)/2\n",
    "print (float(average))"
   ]
  },
  {
   "cell_type": "code",
   "execution_count": 15,
   "id": "f9aca452-bdc6-43b8-bd40-d283be913eb5",
   "metadata": {},
   "outputs": [
    {
     "name": "stdout",
     "output_type": "stream",
     "text": [
      "Enter no 1: 4\n",
      "Enter no 2: 5\n"
     ]
    },
    {
     "name": "stdout",
     "output_type": "stream",
     "text": [
      "False\n",
      "True\n"
     ]
    }
   ],
   "source": [
    "# input 2 numbers and return boolean  of greater or not \n",
    "\n",
    "a=int(input(\"Enter no 1:\"))\n",
    "b=int(input(\"Enter no 2:\"))\n",
    "print(a>=b)\n",
    "print(a<b)\n"
   ]
  },
  {
   "cell_type": "code",
   "execution_count": 16,
   "id": "9bb846d7-b6d4-4465-93f6-4631c1caa2f9",
   "metadata": {},
   "outputs": [
    {
     "name": "stdout",
     "output_type": "stream",
     "text": [
      "first name h\n",
      "last name  h\n"
     ]
    },
    {
     "name": "stdout",
     "output_type": "stream",
     "text": [
      "hh\n"
     ]
    }
   ],
   "source": [
    "#concatenation \n",
    "\n",
    "fname = input (\"first name\")\n",
    "lname =input (\"last name \")\n",
    "fullname =fname+lname \n",
    "print (fullname)"
   ]
  },
  {
   "cell_type": "code",
   "execution_count": 1,
   "id": "4808c5eb-2289-4d5c-b90a-9e3840e146cc",
   "metadata": {},
   "outputs": [
    {
     "name": "stdout",
     "output_type": "stream",
     "text": [
      "5\n"
     ]
    }
   ],
   "source": [
    "#length of str\n",
    "\n",
    "str=\"array\"\n",
    "print(len(str))"
   ]
  },
  {
   "cell_type": "code",
   "execution_count": 2,
   "id": "434bbd65-e073-4e14-8136-50c3f16e4b97",
   "metadata": {},
   "outputs": [
    {
     "name": "stdout",
     "output_type": "stream",
     "text": [
      "a\n"
     ]
    }
   ],
   "source": [
    "#indexing \n",
    "\n",
    "str=\"array\"\n",
    "print (str[0])"
   ]
  },
  {
   "cell_type": "code",
   "execution_count": 6,
   "id": "45aaf0e5-fe93-4545-a8dc-cf3078fd0103",
   "metadata": {},
   "outputs": [
    {
     "name": "stdout",
     "output_type": "stream",
     "text": [
      "hell\n"
     ]
    }
   ],
   "source": [
    "#slicing \n",
    "\n",
    "str =\"helloworld\"\n",
    "print (str[0:4])"
   ]
  },
  {
   "cell_type": "code",
   "execution_count": 11,
   "id": "efd47c28-5081-44bd-8eeb-258865b47ce1",
   "metadata": {},
   "outputs": [
    {
     "name": "stdout",
     "output_type": "stream",
     "text": [
      "True\n",
      "Helloworld\n",
      "heyworld\n",
      "-1\n",
      "1\n"
     ]
    }
   ],
   "source": [
    "# string functions \n",
    "\n",
    "#1. str.ends with \n",
    "\n",
    "arr =\"hello world\"\n",
    "print(str.endswith(\"d\"))\n",
    "print(str.capitalize())\n",
    "print(str.replace(\"hello\",\"hey\"))\n",
    "print(str.find(\"0\"))\n",
    "print(str.count(\"e\"))\n"
   ]
  },
  {
   "cell_type": "code",
   "execution_count": 12,
   "id": "e6c68b96-d6ad-4002-8a28-748df4b44082",
   "metadata": {},
   "outputs": [
    {
     "name": "stdout",
     "output_type": "stream",
     "text": [
      "Enter your first name shreya\n"
     ]
    },
    {
     "name": "stdout",
     "output_type": "stream",
     "text": [
      "6\n"
     ]
    }
   ],
   "source": [
    "# take input first name and find length\n",
    "\n",
    "fname=input(\"Enter your first name\")\n",
    "print(len(fname))"
   ]
  },
  {
   "cell_type": "code",
   "execution_count": 15,
   "id": "f887f221-bef3-4a5b-8910-913bfe93ed0c",
   "metadata": {},
   "outputs": [
    {
     "name": "stdout",
     "output_type": "stream",
     "text": [
      "Give the string $ 4 time $gh$hb$yh7bdjefkej\n"
     ]
    },
    {
     "name": "stdout",
     "output_type": "stream",
     "text": [
      "3\n"
     ]
    }
   ],
   "source": [
    "# find occurance of $\n",
    "\n",
    "str = input (\"Give the string $ 4 time\")\n",
    "print (str.count(\"$\"))"
   ]
  },
  {
   "cell_type": "code",
   "execution_count": 6,
   "id": "a0154c56-3212-45ac-b1c3-7106c47c4d62",
   "metadata": {},
   "outputs": [
    {
     "name": "stdout",
     "output_type": "stream",
     "text": [
      "Enter your marks  45\n"
     ]
    },
    {
     "name": "stdout",
     "output_type": "stream",
     "text": [
      "Grade D\n"
     ]
    }
   ],
   "source": [
    "# Conditional statements \n",
    "\n",
    "marks =int( input(\"Enter your marks \"))\n",
    "if (marks >=90):\n",
    "    print(\"Grade A\")\n",
    "elif(90>=marks and marks>=80):\n",
    "        print(\"Grade B\")\n",
    "elif(80>=marks and marks>=70):\n",
    "          print(\"Grade C\")\n",
    "elif(70>marks):\n",
    "   print(\"Grade D\")\n",
    "else:\n",
    "    print()\n",
    "\n",
    "\n",
    "\n"
   ]
  },
  {
   "cell_type": "code",
   "execution_count": 10,
   "id": "756d8671-762d-4273-b14e-18e8d73a3855",
   "metadata": {},
   "outputs": [
    {
     "name": "stdout",
     "output_type": "stream",
     "text": [
      "Enter your marks:  45\n"
     ]
    },
    {
     "name": "stdout",
     "output_type": "stream",
     "text": [
      "Grade D\n"
     ]
    }
   ],
   "source": [
    "#nested Conditional\n",
    "\n",
    "marks = int(input(\"Enter your marks: \"))\n",
    "\n",
    "if marks >= 70:\n",
    "    if marks >= 80:\n",
    "        if marks >= 90:\n",
    "            print(\"Grade A\")\n",
    "        else:\n",
    "            print(\"Grade B\")\n",
    "    else:\n",
    "        print(\"Grade C\")\n",
    "else:\n",
    "    print(\"Grade D\")\n"
   ]
  },
  {
   "cell_type": "code",
   "execution_count": 17,
   "id": "4015a0d8-9c08-4a3f-b6fb-6f00011a60cd",
   "metadata": {},
   "outputs": [
    {
     "name": "stdout",
     "output_type": "stream",
     "text": [
      "Enter your marks:  10\n"
     ]
    },
    {
     "name": "stdout",
     "output_type": "stream",
     "text": [
      "Even\n"
     ]
    }
   ],
   "source": [
    "# input no. is odd or even\n",
    "\n",
    "marks = int(input(\"Enter your marks: \"))\n",
    "if (marks %2 ==0):\n",
    "    print(\"Even\")\n",
    "else:\n",
    "    print(\"Odd\")"
   ]
  },
  {
   "cell_type": "code",
   "execution_count": 20,
   "id": "723d7652-e345-444e-9fa8-bc298e792957",
   "metadata": {},
   "outputs": [
    {
     "name": "stdout",
     "output_type": "stream",
     "text": [
      "First number 8\n",
      "Second number 10\n",
      "Third number 5\n"
     ]
    },
    {
     "name": "stdout",
     "output_type": "stream",
     "text": [
      "10\n"
     ]
    }
   ],
   "source": [
    "# find greatest number \n",
    "\n",
    "number1= int(input(\"First number\"))\n",
    "number2=int(input(\"Second number\"))\n",
    "number3=int(input(\"Third number\"))\n",
    "\n",
    "if (number1 >number2):\n",
    "    print(number1)\n",
    "elif(number2>number3):\n",
    "    print(number2)\n",
    "else:\n",
    "    print(number3)"
   ]
  },
  {
   "cell_type": "code",
   "execution_count": 27,
   "id": "2f5a8892-e15a-44b4-89e0-38000c792a6c",
   "metadata": {},
   "outputs": [
    {
     "name": "stdout",
     "output_type": "stream",
     "text": [
      "Enter number 21\n"
     ]
    },
    {
     "name": "stdout",
     "output_type": "stream",
     "text": [
      "Multiple\n"
     ]
    }
   ],
   "source": [
    "# find multiple of 7 or not\n",
    "\n",
    "number= int(input(\"Enter number\"))\n",
    "if (number %7==0):\n",
    "    print(\"Multiple\")\n",
    "else:\n",
    "    print(\"Not Multiple\")\n"
   ]
  },
  {
   "cell_type": "code",
   "execution_count": 37,
   "id": "ed12139f-c09e-4e51-8041-67fcc09a19db",
   "metadata": {},
   "outputs": [
    {
     "name": "stdout",
     "output_type": "stream",
     "text": [
      "None\n",
      "[5, 7, 40, 10]\n",
      "None\n",
      "[5, 7, 10, 40]\n",
      "None\n",
      "[40, 10, 7, 5]\n",
      "None\n",
      "[40, 4, 10, 7, 5]\n",
      "5\n",
      "[40, 4, 10, 7]\n",
      "None\n",
      "[40, 4, 7]\n",
      "[40, 4]\n"
     ]
    }
   ],
   "source": [
    "#list methods\n",
    "\n",
    "list=[5,7,40]\n",
    "print(list.append(10))\n",
    "print(list)\n",
    "print(list.sort())\n",
    "print(list)\n",
    "print(list.sort(reverse=True))\n",
    "print(list)\n",
    "print(list.insert(1,4))\n",
    "print(list)\n",
    "print(list.pop(4))\n",
    "print(list)\n",
    "print(list.remove(10))\n",
    "print(list)\n",
    "print(list[0:2])\n"
   ]
  },
  {
   "cell_type": "code",
   "execution_count": 45,
   "id": "54810a5b-08f1-4775-b108-776259f8dcc6",
   "metadata": {},
   "outputs": [
    {
     "name": "stdout",
     "output_type": "stream",
     "text": [
      "1\n",
      "(5, 7, 40)\n",
      "1\n",
      "(5, 7, 40)\n",
      "(5, 7)\n"
     ]
    }
   ],
   "source": [
    "#tuple methods\n",
    "\n",
    "list=(5,7,40)\n",
    "print(list.index(7))\n",
    "print(list)\n",
    "print(list.count(7))\n",
    "print(list)\n",
    "print(list[0:2])"
   ]
  },
  {
   "cell_type": "code",
   "execution_count": 47,
   "id": "53dab291-914c-4914-bcc9-2f2ee3c65c3d",
   "metadata": {},
   "outputs": [
    {
     "name": "stdout",
     "output_type": "stream",
     "text": [
      "first movie zebra\n",
      "Second movie gh\n",
      "third movie uh\n"
     ]
    },
    {
     "name": "stdout",
     "output_type": "stream",
     "text": [
      "['zebra', 'gh', 'uh']\n",
      "<class 'list'>\n"
     ]
    }
   ],
   "source": [
    "# ask names of favorite movies and store in list\n",
    "\n",
    "movie1=input(\"first movie\")\n",
    "movie2=input(\"Second movie\")\n",
    "movie3=input(\"third movie\")\n",
    "moviename=[movie1,movie2,movie3]\n",
    "print (moviename)\n",
    "print(type(moviename))"
   ]
  },
  {
   "cell_type": "code",
   "execution_count": 80,
   "id": "c5d616a7-0ec4-4572-a201-40e437f280bd",
   "metadata": {},
   "outputs": [
    {
     "name": "stdout",
     "output_type": "stream",
     "text": [
      "[1, 2, 3, 2, 1]\n",
      "[1, 'abc', 'abc', 1]\n",
      "[1, 2, 3, 2, 1]\n",
      "[1, 'abc', 'abc', 1]\n",
      "List is palindrome\n"
     ]
    }
   ],
   "source": [
    "#check list is palindrome or not\n",
    "\n",
    "list=[1,2,3,2,1]\n",
    "list4=[1,\"abc\",\"abc\",1]\n",
    "b=(list.copy())\n",
    "c=(list4.copy())\n",
    "print(b)\n",
    "print(c)\n",
    "(b.reverse())\n",
    "(c.reverse())\n",
    "print(b)\n",
    "print(c)\n",
    "if (b==list and c==list4):\n",
    "    \n",
    "        print(\"List is palindrome\")\n",
    "else:\n",
    "    print(\"List is not palindrome\")\n"
   ]
  },
  {
   "cell_type": "code",
   "execution_count": 64,
   "id": "94d6ce9f-108e-435d-830b-fff6d7fa495f",
   "metadata": {},
   "outputs": [
    {
     "name": "stdout",
     "output_type": "stream",
     "text": [
      "[1, 'abc', 'abc', 1]\n",
      "[1, 'abc', 'abc', 1]\n",
      "List is palindrome\n"
     ]
    }
   ],
   "source": [
    "#check list is palindrome or not\n",
    "\n",
    "list=[1,\"abc\",\"abc\",1]\n",
    "b=(list.copy())\n",
    "print(b)\n",
    "(b.reverse())\n",
    "print(b)\n",
    "if (b==list):\n",
    "    print(\"List is palindrome\")\n",
    "else:\n",
    "    print(\"List is not palindrome\")\n"
   ]
  },
  {
   "cell_type": "code",
   "execution_count": 67,
   "id": "34505a2d-29b8-4dc2-b854-040f4101ee68",
   "metadata": {},
   "outputs": [
    {
     "name": "stdout",
     "output_type": "stream",
     "text": [
      "Count of no.of students: 3\n"
     ]
    }
   ],
   "source": [
    "# count of number of students with \"A\"\n",
    "\n",
    "Grades=(\"C\",\"D\",\"A\",\"A\",\"B\",\"B\",\"A\")\n",
    "print(\"Count of no.of students:\",Grades.count(\"A\"))"
   ]
  },
  {
   "cell_type": "code",
   "execution_count": 82,
   "id": "a00b7e3e-a1e3-42d3-b14e-fbccdbc651fb",
   "metadata": {},
   "outputs": [
    {
     "name": "stdout",
     "output_type": "stream",
     "text": [
      "Sort of students Grades : ['A', 'A', 'A', 'B', 'B', 'C', 'D']\n"
     ]
    }
   ],
   "source": [
    "# Sort the list A to D\n",
    "\n",
    "Grades=[\"C\",\"D\",\"A\",\"A\",\"B\",\"B\",\"A\"]\n",
    "Grades.sort()\n",
    "print(\"Sort of students Grades :\",(Grades))"
   ]
  },
  {
   "cell_type": "code",
   "execution_count": 22,
   "id": "f19a7535-7daa-4efa-8aba-dc0b2045b142",
   "metadata": {},
   "outputs": [
    {
     "name": "stdout",
     "output_type": "stream",
     "text": [
      "<class 'dict'>\n",
      "{}\n",
      "dict_keys(['fname', 'lname', 'city'])\n",
      "dict_values(['Shreya', 'gupta', 'Panna'])\n",
      "dict_items([('fname', 'Shreya'), ('lname', 'gupta'), ('city', 'Panna')])\n",
      "{'fname': 'Hri'}\n",
      "{'fname': 'Hri', 'lname': 'gupta', 'city': 'Panna'}\n"
     ]
    }
   ],
   "source": [
    "#Dict\n",
    "\n",
    "dic={\"fname\":\"Shreya\",\"lname\":\"gupta\",\"city\":\"Panna\"}\n",
    "print(type(dic))\n",
    "dic7={}\n",
    "print(dic7)\n",
    "print(dic.keys())\n",
    "print(dic.values())\n",
    "print(dic.items())\n",
    "dic7={\"fname\":\"Hri\"}\n",
    "print(dic7)\n",
    "dic.update(dic7)\n",
    "print(dic)"
   ]
  },
  {
   "cell_type": "code",
   "execution_count": 43,
   "id": "c9c2ff90-6af5-4c65-82f5-6efe96286a8b",
   "metadata": {},
   "outputs": [
    {
     "name": "stdout",
     "output_type": "stream",
     "text": [
      "<class 'set'>\n",
      "set()\n",
      "{'Panna', 'Shreya', 'gupta', 'city', 'lname'}\n",
      "{'Panna', 'Shreya', 'gupta', 'city', 'lname', 'fname'}\n",
      "{'Panna', 'gupta', 'C', 'B', 'D', 'Shreya', 'city', 'lname', 'A', 'fname'}\n",
      "{'Panna', 'city'}\n",
      "{'Shreya', 'gupta', 'city', 'lname', 'fname'}\n",
      "set()\n"
     ]
    }
   ],
   "source": [
    "#set\n",
    "\n",
    "call={\"fname\",\"Shreya\",\"lname\",\"gupta\",\"city\",\"Panna\"}\n",
    "Grades={\"C\",\"D\",\"A\",\"A\",\"B\",\"B\",\"A\",\"city\",\"Panna\"}\n",
    "print(type(call))\n",
    "call1 = set()\n",
    "print(call1)\n",
    "call.remove(\"fname\")\n",
    "print(call)\n",
    "call.add(\"fname\")\n",
    "print(call)\n",
    "print(call.union(Grades))\n",
    "print(call.intersection(Grades))\n",
    "call.pop()\n",
    "print(call)\n",
    "call.clear()\n",
    "print(call)"
   ]
  },
  {
   "cell_type": "code",
   "execution_count": 44,
   "id": "df3cf30a-3b9e-4150-a2ad-425e330ab9dd",
   "metadata": {},
   "outputs": [
    {
     "name": "stdout",
     "output_type": "stream",
     "text": [
      "{'table': ['a piece of furniture ', 'list of facts & figures'], 'cat': 'a small animal'}\n"
     ]
    }
   ],
   "source": [
    "#store word meaning in dic \n",
    "\n",
    "mydic={\"table\":[\"a piece of furniture \",\"list of facts & figures\"],\"cat\":\"a small animal\"}\n",
    "print(mydic)\n"
   ]
  },
  {
   "cell_type": "code",
   "execution_count": 1,
   "id": "919244ea-2ff6-4b93-8171-7830f5fb0dce",
   "metadata": {},
   "outputs": [
    {
     "name": "stdout",
     "output_type": "stream",
     "text": [
      "Unique subjects: {'C', 'java', 'python', 'C++', 'javascript'}\n",
      "Total classrooms needed: 5\n"
     ]
    }
   ],
   "source": [
    "# list of stu subj .Assume 1 classroom for 1 subj .calculated needed classroom for all students \n",
    "\n",
    "student_subjects = [\"python\", \"java\", \"C++\", \"python\", \"javascript\", \"java\", \"python\", \"java\", \"C++\", \"C\"]\n",
    "\n",
    "# Use a set to get unique subjects\n",
    "unique_subjects = set(student_subjects)\n",
    "print(\"Unique subjects:\", unique_subjects)\n",
    "\n",
    "# Calculate number of classrooms\n",
    "num_classrooms = len(unique_subjects)\n",
    "print(\"Total classrooms needed:\", num_classrooms)\n"
   ]
  },
  {
   "cell_type": "code",
   "execution_count": 10,
   "id": "1f23b5d8-8da4-4ae8-ac7a-842e4413d23d",
   "metadata": {},
   "outputs": [
    {
     "name": "stdout",
     "output_type": "stream",
     "text": [
      "{}\n",
      "{'': ''}\n"
     ]
    }
   ],
   "source": [
    "# store marks in key values pairs \n",
    "\n",
    "mydic={}\n",
    "print(mydic)\n",
    "\n",
    "subject1=input(\"enter your subj1\")\n",
    "subject1_marks=input(\"enter your marks\")\n",
    "subject2=input(\"enter your subj2\")\n",
    "subject2_marks=input(\"enter your marks\")\n",
    "subject3=input(\"enter your subj3\")\n",
    "subject3_marks=input(\"enter your marks\")\n",
    "\n",
    "mydic[subject1]=subject1_marks\n",
    "mydic[subject2]=subject2_marks\n",
    "mydic[subject3]=subject3_marks\n",
    "print(mydic)\n"
   ]
  },
  {
   "cell_type": "code",
   "execution_count": 11,
   "id": "699e2b06",
   "metadata": {},
   "outputs": [
    {
     "name": "stdout",
     "output_type": "stream",
     "text": [
      "{9, '9.0'}\n"
     ]
    }
   ],
   "source": [
    "# store 9 and 9.0\n",
    "\n",
    "set={9,\"9.0\"}\n",
    "print (set)\n"
   ]
  },
  {
   "cell_type": "code",
   "execution_count": 3,
   "id": "0f48ec5f",
   "metadata": {},
   "outputs": [
    {
     "name": "stdout",
     "output_type": "stream",
     "text": [
      "1\n",
      "2\n",
      "3\n",
      "4\n",
      "5\n",
      "6\n",
      "7\n",
      "8\n",
      "9\n",
      "10\n",
      "11\n",
      "12\n",
      "13\n",
      "14\n",
      "15\n",
      "16\n",
      "17\n",
      "18\n",
      "19\n",
      "20\n",
      "21\n",
      "22\n",
      "23\n",
      "24\n",
      "25\n",
      "26\n",
      "27\n",
      "28\n",
      "29\n",
      "30\n",
      "31\n",
      "32\n",
      "33\n",
      "34\n",
      "35\n",
      "36\n",
      "37\n",
      "38\n",
      "39\n",
      "40\n",
      "41\n",
      "42\n",
      "43\n",
      "44\n",
      "45\n",
      "46\n",
      "47\n",
      "48\n",
      "49\n",
      "50\n",
      "51\n",
      "52\n",
      "53\n",
      "54\n",
      "55\n",
      "56\n",
      "57\n",
      "58\n",
      "59\n",
      "60\n",
      "61\n",
      "62\n",
      "63\n",
      "64\n",
      "65\n",
      "66\n",
      "67\n",
      "68\n",
      "69\n",
      "70\n",
      "71\n",
      "72\n",
      "73\n",
      "74\n",
      "75\n",
      "76\n",
      "77\n",
      "78\n",
      "79\n",
      "80\n",
      "81\n",
      "82\n",
      "83\n",
      "84\n",
      "85\n",
      "86\n",
      "87\n",
      "88\n",
      "89\n",
      "90\n",
      "91\n",
      "92\n",
      "93\n",
      "94\n",
      "95\n",
      "96\n",
      "97\n",
      "98\n",
      "99\n",
      "100\n"
     ]
    }
   ],
   "source": [
    "# print 1 to 100\n",
    "\n",
    "i=1\n",
    "while i<=100:\n",
    "    print(i)\n",
    "    i+=1"
   ]
  },
  {
   "cell_type": "code",
   "execution_count": 6,
   "id": "96d5a8b3-54d8-4d82-ac96-d852f3b9bbe1",
   "metadata": {},
   "outputs": [
    {
     "name": "stdout",
     "output_type": "stream",
     "text": [
      "100\n",
      "99\n",
      "98\n",
      "97\n",
      "96\n",
      "95\n",
      "94\n",
      "93\n",
      "92\n",
      "91\n",
      "90\n",
      "89\n",
      "88\n",
      "87\n",
      "86\n",
      "85\n",
      "84\n",
      "83\n",
      "82\n",
      "81\n",
      "80\n",
      "79\n",
      "78\n",
      "77\n",
      "76\n",
      "75\n",
      "74\n",
      "73\n",
      "72\n",
      "71\n",
      "70\n",
      "69\n",
      "68\n",
      "67\n",
      "66\n",
      "65\n",
      "64\n",
      "63\n",
      "62\n",
      "61\n",
      "60\n",
      "59\n",
      "58\n",
      "57\n",
      "56\n",
      "55\n",
      "54\n",
      "53\n",
      "52\n",
      "51\n",
      "50\n",
      "49\n",
      "48\n",
      "47\n",
      "46\n",
      "45\n",
      "44\n",
      "43\n",
      "42\n",
      "41\n",
      "40\n",
      "39\n",
      "38\n",
      "37\n",
      "36\n",
      "35\n",
      "34\n",
      "33\n",
      "32\n",
      "31\n",
      "30\n",
      "29\n",
      "28\n",
      "27\n",
      "26\n",
      "25\n",
      "24\n",
      "23\n",
      "22\n",
      "21\n",
      "20\n",
      "19\n",
      "18\n",
      "17\n",
      "16\n",
      "15\n",
      "14\n",
      "13\n",
      "12\n",
      "11\n",
      "10\n",
      "9\n",
      "8\n",
      "7\n",
      "6\n",
      "5\n",
      "4\n",
      "3\n",
      "2\n",
      "1\n"
     ]
    }
   ],
   "source": [
    "# print 100 to 1\n",
    "\n",
    "i=100\n",
    "while i>=1:\n",
    "    print(i)\n",
    "    i-=1"
   ]
  },
  {
   "cell_type": "code",
   "execution_count": 10,
   "id": "ab3abc5d-63a4-4e0b-8e3c-a2ddefa3a54e",
   "metadata": {},
   "outputs": [
    {
     "name": "stdin",
     "output_type": "stream",
     "text": [
      "Write your number 4\n"
     ]
    },
    {
     "name": "stdout",
     "output_type": "stream",
     "text": [
      "4\n",
      "8\n",
      "12\n",
      "16\n",
      "20\n",
      "24\n",
      "28\n",
      "32\n",
      "36\n",
      "40\n"
     ]
    }
   ],
   "source": [
    "# print multiplication of n\n",
    "\n",
    "n=int(input(\"Write your number\"))\n",
    "i=1\n",
    "while (i<=10):\n",
    "    print(n*i)\n",
    "    i+=1\n"
   ]
  },
  {
   "cell_type": "code",
   "execution_count": 18,
   "id": "bb994395-1d10-41c5-9ee0-1397d00353c4",
   "metadata": {},
   "outputs": [
    {
     "name": "stdout",
     "output_type": "stream",
     "text": [
      "1\n",
      "4\n",
      "9\n",
      "16\n",
      "25\n",
      "36\n",
      "49\n",
      "64\n",
      "81\n",
      "100\n"
     ]
    }
   ],
   "source": [
    "# print list \n",
    "\n",
    "l =[1,4,9,16,25,36,49,64,81,100]\n",
    "i=0\n",
    "while (i<len(l)):\n",
    "    print(l[i])\n",
    "    i+=1"
   ]
  },
  {
   "cell_type": "code",
   "execution_count": null,
   "id": "dd98d6d5-b21a-42d4-9868-8a3d66cc4db5",
   "metadata": {},
   "outputs": [],
   "source": [
    "# search element \n",
    "\n",
    "l =(1,4,9,16,25,36,49,64,81,100)\n",
    "x= int(input(\"Enter your number\"))\n",
    "i=0\n",
    "while i<len(l):\n",
    "    if (l[i]==x):\n",
    "        print(\"Found\",i)\n",
    "        i+=1"
   ]
  }
 ],
 "metadata": {
  "kernelspec": {
   "display_name": "Python 3 (ipykernel)",
   "language": "python",
   "name": "python3"
  },
  "language_info": {
   "codemirror_mode": {
    "name": "ipython",
    "version": 3
   },
   "file_extension": ".py",
   "mimetype": "text/x-python",
   "name": "python",
   "nbconvert_exporter": "python",
   "pygments_lexer": "ipython3",
   "version": "3.12.5"
  }
 },
 "nbformat": 4,
 "nbformat_minor": 5
}

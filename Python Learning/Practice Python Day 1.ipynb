{
 "cells": [
  {
   "cell_type": "code",
   "execution_count": 17,
   "id": "5b495fb6-6c01-4696-9032-1705bddf001e",
   "metadata": {},
   "outputs": [
    {
     "name": "stdout",
     "output_type": "stream",
     "text": [
      "[1, 2, 3, 4, 5]\n",
      "1\n",
      "5\n",
      "[2, 3, 4]\n",
      "[1, 2, 3, 4, 5, 6]\n",
      "[1, 2, 0, 3, 4, 5, 6]\n",
      "[1, 2, 3, 4, 5, 6]\n"
     ]
    }
   ],
   "source": [
    "# Create a list of 5 numbers \n",
    "\n",
    "list1=[1,2,3,4,5]\n",
    "print(list1)\n",
    "\n",
    "# print the first and last element using indexing\n",
    "\n",
    "print(list1[0])\n",
    "print(list1[-1])\n",
    "\n",
    "#print the slice of the middle 3 elements\n",
    "\n",
    "print(list[1:-1])\n",
    "\n",
    "#add a new no.at the end of the list\n",
    "\n",
    "list1.append(6)\n",
    "print(list1)\n",
    "\n",
    "#Insert a number at index 2\n",
    "\n",
    "list1.insert(2,0)\n",
    "print(list1)\n",
    "\n",
    "#Remove a number from the list \n",
    "\n",
    "list1.pop(2)\n",
    "print(list1)\n"
   ]
  },
  {
   "cell_type": "code",
   "execution_count": 19,
   "id": "c964d4a7-086c-400a-a0f1-051eff63026b",
   "metadata": {},
   "outputs": [
    {
     "name": "stdout",
     "output_type": "stream",
     "text": [
      "1\n",
      "2\n",
      "3\n",
      "4\n",
      "5\n"
     ]
    }
   ],
   "source": [
    "# Write a for loop to print numbers from 1 to 5.\n",
    "\n",
    "for i in range(1,6):\n",
    "    print(i)"
   ]
  },
  {
   "cell_type": "code",
   "execution_count": 1,
   "id": "797dd3c8-2b4b-40b5-a25e-f5eae4866598",
   "metadata": {},
   "outputs": [
    {
     "name": "stdout",
     "output_type": "stream",
     "text": [
      "1\n",
      "2\n",
      "3\n",
      "4\n",
      "5\n"
     ]
    }
   ],
   "source": [
    "# Write a while loop to print numbers from 1 to 5.\n",
    "\n",
    "i=1\n",
    "while i<=5:\n",
    "    print(i)\n",
    "    i+=1"
   ]
  },
  {
   "cell_type": "code",
   "execution_count": 3,
   "id": "c8431309-f166-4067-999f-4ec406bf2e98",
   "metadata": {},
   "outputs": [
    {
     "ename": "SyntaxError",
     "evalue": "invalid syntax (227394144.py, line 1)",
     "output_type": "error",
     "traceback": [
      "\u001b[1;36m  Cell \u001b[1;32mIn[3], line 1\u001b[1;36m\u001b[0m\n\u001b[1;33m    def (calc_sum):\u001b[0m\n\u001b[1;37m        ^\u001b[0m\n\u001b[1;31mSyntaxError\u001b[0m\u001b[1;31m:\u001b[0m invalid syntax\n"
     ]
    }
   ],
   "source": [
    "def calc_sum():\n",
    "a=5\n",
    "b=4\n",
    "sum=a+b\n",
    "return sum\n",
    "\n",
    "print(calc_sum())"
   ]
  },
  {
   "cell_type": "code",
   "execution_count": null,
   "id": "c887a47a-ba4f-4006-8704-b416ada852c3",
   "metadata": {},
   "outputs": [],
   "source": []
  }
 ],
 "metadata": {
  "kernelspec": {
   "display_name": "Python 3 (ipykernel)",
   "language": "python",
   "name": "python3"
  },
  "language_info": {
   "codemirror_mode": {
    "name": "ipython",
    "version": 3
   },
   "file_extension": ".py",
   "mimetype": "text/x-python",
   "name": "python",
   "nbconvert_exporter": "python",
   "pygments_lexer": "ipython3",
   "version": "3.12.5"
  }
 },
 "nbformat": 4,
 "nbformat_minor": 5
}

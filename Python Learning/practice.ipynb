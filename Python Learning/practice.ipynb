{
 "cells": [
  {
   "cell_type": "code",
   "execution_count": 1,
   "id": "42237562-a5ec-420e-a10d-4711aab3cd1d",
   "metadata": {},
   "outputs": [
    {
     "name": "stdout",
     "output_type": "stream",
     "text": [
      "Shreya\n",
      "shreya  gupta 22\n",
      "22\n"
     ]
    }
   ],
   "source": [
    "#output ways\n",
    "\n",
    "print (\"Shreya\")   # simple string output\n",
    "print(\"shreya  \"+\"gupta\",22)   #string concatenation and output of integer variable\n",
    "print (22) #output of integer variable"
   ]
  },
  {
   "cell_type": "code",
   "execution_count": 2,
   "id": "b703db3e-c51a-426f-ab90-2e5afedb817c",
   "metadata": {},
   "outputs": [],
   "source": [
    "#variable building \n",
    "\n",
    "name = \"shreya\" #string variable\n",
    "age = 22 #integer variable\n",
    "price = 10.5 #float variable\n"
   ]
  },
  {
   "cell_type": "code",
   "execution_count": 3,
   "id": "51e70253-0e03-49f0-83df-1a3a5dee9b99",
   "metadata": {},
   "outputs": [
    {
     "name": "stdout",
     "output_type": "stream",
     "text": [
      "My name is  shreya\n",
      "22\n"
     ]
    }
   ],
   "source": [
    "# output of variables\n",
    "print (\"My name is \", name ) #output of string variable\n",
    "age2 = age \n",
    "print (age2) #output of integer variable"
   ]
  },
  {
   "cell_type": "code",
   "execution_count": 4,
   "id": "b8511cd7-3bab-49e3-8b21-9a2e75d99fb6",
   "metadata": {},
   "outputs": [
    {
     "name": "stdout",
     "output_type": "stream",
     "text": [
      "130\n"
     ]
    }
   ],
   "source": [
    "# add two numbers\n",
    "\n",
    "a=45\n",
    "b=85\n",
    "print(a+b)"
   ]
  },
  {
   "cell_type": "code",
   "execution_count": 5,
   "id": "61eed9da-8e7f-4473-9c39-68e09c475539",
   "metadata": {},
   "outputs": [
    {
     "name": "stdout",
     "output_type": "stream",
     "text": [
      "130\n",
      "-40\n",
      "3825\n",
      "0.5294117647058824\n",
      "45\n",
      "333475299217836818538000898181106665229140523414065655135861579328062996798931325848731815598180211641932135790966640342958271503448486328125\n"
     ]
    }
   ],
   "source": [
    "# Arithmetic operations\n",
    "\n",
    "print (a+b) # addition\n",
    "print (a-b) # subtraction\n",
    "print (a*b) # multiplication\n",
    "print (a/b) #division\n",
    "print (a%b) # modulus\n",
    "print (a**b) #power"
   ]
  },
  {
   "cell_type": "code",
   "execution_count": 6,
   "id": "550ef16e-1442-4a7d-81de-bc0d04a4d03d",
   "metadata": {},
   "outputs": [
    {
     "name": "stdout",
     "output_type": "stream",
     "text": [
      "False\n",
      "True\n",
      "False\n",
      "True\n",
      "False\n",
      "True\n"
     ]
    }
   ],
   "source": [
    "#Relational operators\n",
    "\n",
    "print (a==b) # equality\n",
    "print (a!=b) #inequality\n",
    "print (a>b) # greater than\n",
    "print (a<b) # less than\n",
    "print (a>=b) # greater than or equal to\n",
    "print (a<=b) # less than or equal to"
   ]
  },
  {
   "cell_type": "code",
   "execution_count": 7,
   "id": "a9d756c3-5ea1-4b50-a047-7ac57c79760a",
   "metadata": {},
   "outputs": [
    {
     "name": "stdout",
     "output_type": "stream",
     "text": [
      "55\n",
      "45\n",
      "450\n",
      "45.0\n"
     ]
    }
   ],
   "source": [
    "#Assignment operators\n",
    "\n",
    "a += 10\n",
    "print(a)  # or b = a; print(b)\n",
    "a -= 10\n",
    "print(a)  # or b = a; print(b)\n",
    "a *= 10\n",
    "print(a)  # or b = a; print(b)\n",
    "a /= 10\n",
    "print(a)  # or b = a; print(b)\n"
   ]
  },
  {
   "cell_type": "code",
   "execution_count": 8,
   "id": "c66d7b93-be20-4724-bb64-ee96510f9d48",
   "metadata": {},
   "outputs": [
    {
     "name": "stdout",
     "output_type": "stream",
     "text": [
      "85\n",
      "45.0\n",
      "False\n",
      "85\n"
     ]
    }
   ],
   "source": [
    "#Logical operators\n",
    "\n",
    "print (a and b) # and\n",
    "print (a or b) # or\n",
    "print (not a) # not\n",
    "print (a and b or a and not b) # and and or and not"
   ]
  },
  {
   "cell_type": "code",
   "execution_count": 9,
   "id": "267dd4da-56b9-41ff-868f-78758289523f",
   "metadata": {},
   "outputs": [
    {
     "name": "stdout",
     "output_type": "stream",
     "text": [
      "45.0\n",
      "45\n",
      "45.0\n"
     ]
    }
   ],
   "source": [
    "# Type conversion\n",
    "\n",
    "print (str(a)) # string\n",
    "print (int(a)) # integer\n",
    "print (float(a)) # float"
   ]
  },
  {
   "cell_type": "code",
   "execution_count": 10,
   "id": "a02103b0-8106-43e6-9fda-aa750ec57e89",
   "metadata": {},
   "outputs": [
    {
     "name": "stdout",
     "output_type": "stream",
     "text": [
      "45\n",
      "45.0\n"
     ]
    }
   ],
   "source": [
    "#type casting \n",
    "\n",
    "print (int(a)) # integer\n",
    "print (float (a)) # float"
   ]
  },
  {
   "cell_type": "code",
   "execution_count": 11,
   "id": "ccfe1f8f-bce5-4c68-879e-dbc65bfde559",
   "metadata": {},
   "outputs": [
    {
     "name": "stdout",
     "output_type": "stream",
     "text": [
      "Enter your name: h\n",
      "Enter your age: f\n"
     ]
    },
    {
     "name": "stdout",
     "output_type": "stream",
     "text": [
      "Hello, my name is h and I am f years old\n"
     ]
    }
   ],
   "source": [
    "#input function\n",
    "\n",
    "name = input (\"Enter your name:\")\n",
    "age = input (\"Enter your age:\")\n",
    "print (\"Hello, my name is\", name, \"and I am\", age, \"years old\")"
   ]
  },
  {
   "cell_type": "code",
   "execution_count": 12,
   "id": "0ef3f4b5-7963-45a8-a8d6-6c64b60cd606",
   "metadata": {},
   "outputs": [
    {
     "name": "stdout",
     "output_type": "stream",
     "text": [
      "Enter no 1: 4\n",
      "enter no 2 : 5\n"
     ]
    },
    {
     "name": "stdout",
     "output_type": "stream",
     "text": [
      "Sum : 9\n"
     ]
    }
   ],
   "source": [
    "#input 2 numbers and print their sum\n",
    "\n",
    "a =input (\"Enter no 1:\")\n",
    "b= input (\"enter no 2 :\")\n",
    "sum= int (a)+int(b)\n",
    "print (\"Sum :\",sum)"
   ]
  },
  {
   "cell_type": "code",
   "execution_count": 13,
   "id": "83b79de1-b561-4cd7-9783-82aa9f9ae857",
   "metadata": {},
   "outputs": [
    {
     "name": "stdout",
     "output_type": "stream",
     "text": [
      "length: 4\n"
     ]
    },
    {
     "name": "stdout",
     "output_type": "stream",
     "text": [
      "area of square : 16\n"
     ]
    }
   ],
   "source": [
    "#input sides of square and calculate area \n",
    "\n",
    "l= int (input(\"length:\"))\n",
    "area = l*l\n",
    "print (\"area of square :\",area )"
   ]
  },
  {
   "cell_type": "code",
   "execution_count": 14,
   "id": "49617825-11b6-451b-96f7-9a54ab7a91e0",
   "metadata": {},
   "outputs": [
    {
     "name": "stdout",
     "output_type": "stream",
     "text": [
      "enter no 1: 4\n",
      "enter no 2: 5\n"
     ]
    },
    {
     "name": "stdout",
     "output_type": "stream",
     "text": [
      "4.5\n"
     ]
    }
   ],
   "source": [
    "#input two float values and average \n",
    "\n",
    "a=int (input(\"enter no 1:\"))\n",
    "b=int (input(\"enter no 2:\"))\n",
    "average =(a+b)/2\n",
    "print (float(average))"
   ]
  },
  {
   "cell_type": "code",
   "execution_count": 15,
   "id": "f9aca452-bdc6-43b8-bd40-d283be913eb5",
   "metadata": {},
   "outputs": [
    {
     "name": "stdout",
     "output_type": "stream",
     "text": [
      "Enter no 1: 4\n",
      "Enter no 2: 5\n"
     ]
    },
    {
     "name": "stdout",
     "output_type": "stream",
     "text": [
      "False\n",
      "True\n"
     ]
    }
   ],
   "source": [
    "# input 2 numbers and return boolean  of greater or not \n",
    "\n",
    "a=int(input(\"Enter no 1:\"))\n",
    "b=int(input(\"Enter no 2:\"))\n",
    "print(a>=b)\n",
    "print(a<b)\n"
   ]
  },
  {
   "cell_type": "code",
   "execution_count": 16,
   "id": "9bb846d7-b6d4-4465-93f6-4631c1caa2f9",
   "metadata": {},
   "outputs": [
    {
     "name": "stdout",
     "output_type": "stream",
     "text": [
      "first name h\n",
      "last name  h\n"
     ]
    },
    {
     "name": "stdout",
     "output_type": "stream",
     "text": [
      "hh\n"
     ]
    }
   ],
   "source": [
    "#concatenation \n",
    "\n",
    "fname = input (\"first name\")\n",
    "lname =input (\"last name \")\n",
    "fullname =fname+lname \n",
    "print (fullname)"
   ]
  },
  {
   "cell_type": "code",
   "execution_count": 1,
   "id": "4808c5eb-2289-4d5c-b90a-9e3840e146cc",
   "metadata": {},
   "outputs": [
    {
     "name": "stdout",
     "output_type": "stream",
     "text": [
      "5\n"
     ]
    }
   ],
   "source": [
    "#length of str\n",
    "\n",
    "str=\"array\"\n",
    "print(len(str))"
   ]
  },
  {
   "cell_type": "code",
   "execution_count": 2,
   "id": "434bbd65-e073-4e14-8136-50c3f16e4b97",
   "metadata": {},
   "outputs": [
    {
     "name": "stdout",
     "output_type": "stream",
     "text": [
      "a\n"
     ]
    }
   ],
   "source": [
    "#indexing \n",
    "\n",
    "str=\"array\"\n",
    "print (str[0])"
   ]
  },
  {
   "cell_type": "code",
   "execution_count": 6,
   "id": "45aaf0e5-fe93-4545-a8dc-cf3078fd0103",
   "metadata": {},
   "outputs": [
    {
     "name": "stdout",
     "output_type": "stream",
     "text": [
      "hell\n"
     ]
    }
   ],
   "source": [
    "#slicing \n",
    "\n",
    "str =\"helloworld\"\n",
    "print (str[0:4])"
   ]
  },
  {
   "cell_type": "code",
   "execution_count": 11,
   "id": "efd47c28-5081-44bd-8eeb-258865b47ce1",
   "metadata": {},
   "outputs": [
    {
     "name": "stdout",
     "output_type": "stream",
     "text": [
      "True\n",
      "Helloworld\n",
      "heyworld\n",
      "-1\n",
      "1\n"
     ]
    }
   ],
   "source": [
    "# string functions \n",
    "\n",
    "#1. str.ends with \n",
    "\n",
    "arr =\"hello world\"\n",
    "print(str.endswith(\"d\"))\n",
    "print(str.capitalize())\n",
    "print(str.replace(\"hello\",\"hey\"))\n",
    "print(str.find(\"0\"))\n",
    "print(str.count(\"e\"))\n"
   ]
  },
  {
   "cell_type": "code",
   "execution_count": 12,
   "id": "e6c68b96-d6ad-4002-8a28-748df4b44082",
   "metadata": {},
   "outputs": [
    {
     "name": "stdout",
     "output_type": "stream",
     "text": [
      "Enter your first name shreya\n"
     ]
    },
    {
     "name": "stdout",
     "output_type": "stream",
     "text": [
      "6\n"
     ]
    }
   ],
   "source": [
    "# take input first name and find length\n",
    "\n",
    "fname=input(\"Enter your first name\")\n",
    "print(len(fname))"
   ]
  },
  {
   "cell_type": "code",
   "execution_count": 15,
   "id": "f887f221-bef3-4a5b-8910-913bfe93ed0c",
   "metadata": {},
   "outputs": [
    {
     "name": "stdout",
     "output_type": "stream",
     "text": [
      "Give the string $ 4 time $gh$hb$yh7bdjefkej\n"
     ]
    },
    {
     "name": "stdout",
     "output_type": "stream",
     "text": [
      "3\n"
     ]
    }
   ],
   "source": [
    "# find occurance of $\n",
    "\n",
    "str = input (\"Give the string $ 4 time\")\n",
    "print (str.count(\"$\"))"
   ]
  },
  {
   "cell_type": "code",
   "execution_count": 6,
   "id": "a0154c56-3212-45ac-b1c3-7106c47c4d62",
   "metadata": {},
   "outputs": [
    {
     "name": "stdout",
     "output_type": "stream",
     "text": [
      "Enter your marks  45\n"
     ]
    },
    {
     "name": "stdout",
     "output_type": "stream",
     "text": [
      "Grade D\n"
     ]
    }
   ],
   "source": [
    "# Conditional statements \n",
    "\n",
    "marks =int( input(\"Enter your marks \"))\n",
    "if (marks >=90):\n",
    "    print(\"Grade A\")\n",
    "elif(90>=marks and marks>=80):\n",
    "        print(\"Grade B\")\n",
    "elif(80>=marks and marks>=70):\n",
    "          print(\"Grade C\")\n",
    "elif(70>marks):\n",
    "   print(\"Grade D\")\n",
    "else:\n",
    "    print()\n",
    "\n",
    "\n",
    "\n"
   ]
  },
  {
   "cell_type": "code",
   "execution_count": 10,
   "id": "756d8671-762d-4273-b14e-18e8d73a3855",
   "metadata": {},
   "outputs": [
    {
     "name": "stdout",
     "output_type": "stream",
     "text": [
      "Enter your marks:  45\n"
     ]
    },
    {
     "name": "stdout",
     "output_type": "stream",
     "text": [
      "Grade D\n"
     ]
    }
   ],
   "source": [
    "#nested Conditional\n",
    "\n",
    "marks = int(input(\"Enter your marks: \"))\n",
    "\n",
    "if marks >= 70:\n",
    "    if marks >= 80:\n",
    "        if marks >= 90:\n",
    "            print(\"Grade A\")\n",
    "        else:\n",
    "            print(\"Grade B\")\n",
    "    else:\n",
    "        print(\"Grade C\")\n",
    "else:\n",
    "    print(\"Grade D\")\n"
   ]
  },
  {
   "cell_type": "code",
   "execution_count": 17,
   "id": "4015a0d8-9c08-4a3f-b6fb-6f00011a60cd",
   "metadata": {},
   "outputs": [
    {
     "name": "stdout",
     "output_type": "stream",
     "text": [
      "Enter your marks:  10\n"
     ]
    },
    {
     "name": "stdout",
     "output_type": "stream",
     "text": [
      "Even\n"
     ]
    }
   ],
   "source": [
    "# input no. is odd or even\n",
    "\n",
    "marks = int(input(\"Enter your marks: \"))\n",
    "if (marks %2 ==0):\n",
    "    print(\"Even\")\n",
    "else:\n",
    "    print(\"Odd\")"
   ]
  },
  {
   "cell_type": "code",
   "execution_count": 20,
   "id": "723d7652-e345-444e-9fa8-bc298e792957",
   "metadata": {},
   "outputs": [
    {
     "name": "stdout",
     "output_type": "stream",
     "text": [
      "First number 8\n",
      "Second number 10\n",
      "Third number 5\n"
     ]
    },
    {
     "name": "stdout",
     "output_type": "stream",
     "text": [
      "10\n"
     ]
    }
   ],
   "source": [
    "# find greatest number \n",
    "\n",
    "number1= int(input(\"First number\"))\n",
    "number2=int(input(\"Second number\"))\n",
    "number3=int(input(\"Third number\"))\n",
    "\n",
    "if (number1 >number2):\n",
    "    print(number1)\n",
    "elif(number2>number3):\n",
    "    print(number2)\n",
    "else:\n",
    "    print(number3)"
   ]
  },
  {
   "cell_type": "code",
   "execution_count": 27,
   "id": "2f5a8892-e15a-44b4-89e0-38000c792a6c",
   "metadata": {},
   "outputs": [
    {
     "name": "stdout",
     "output_type": "stream",
     "text": [
      "Enter number 21\n"
     ]
    },
    {
     "name": "stdout",
     "output_type": "stream",
     "text": [
      "Multiple\n"
     ]
    }
   ],
   "source": [
    "# find multiple of 7 or not\n",
    "\n",
    "number= int(input(\"Enter number\"))\n",
    "if (number %7==0):\n",
    "    print(\"Multiple\")\n",
    "else:\n",
    "    print(\"Not Multiple\")\n"
   ]
  },
  {
   "cell_type": "code",
   "execution_count": 37,
   "id": "ed12139f-c09e-4e51-8041-67fcc09a19db",
   "metadata": {},
   "outputs": [
    {
     "name": "stdout",
     "output_type": "stream",
     "text": [
      "None\n",
      "[5, 7, 40, 10]\n",
      "None\n",
      "[5, 7, 10, 40]\n",
      "None\n",
      "[40, 10, 7, 5]\n",
      "None\n",
      "[40, 4, 10, 7, 5]\n",
      "5\n",
      "[40, 4, 10, 7]\n",
      "None\n",
      "[40, 4, 7]\n",
      "[40, 4]\n"
     ]
    }
   ],
   "source": [
    "#list methods\n",
    "\n",
    "list=[5,7,40]\n",
    "print(list.append(10))\n",
    "print(list)\n",
    "print(list.sort())\n",
    "print(list)\n",
    "print(list.sort(reverse=True))\n",
    "print(list)\n",
    "print(list.insert(1,4))\n",
    "print(list)\n",
    "print(list.pop(4))\n",
    "print(list)\n",
    "print(list.remove(10))\n",
    "print(list)\n",
    "print(list[0:2])\n"
   ]
  },
  {
   "cell_type": "code",
   "execution_count": 45,
   "id": "54810a5b-08f1-4775-b108-776259f8dcc6",
   "metadata": {},
   "outputs": [
    {
     "name": "stdout",
     "output_type": "stream",
     "text": [
      "1\n",
      "(5, 7, 40)\n",
      "1\n",
      "(5, 7, 40)\n",
      "(5, 7)\n"
     ]
    }
   ],
   "source": [
    "#tuple methods\n",
    "\n",
    "list=(5,7,40)\n",
    "print(list.index(7))\n",
    "print(list)\n",
    "print(list.count(7))\n",
    "print(list)\n",
    "print(list[0:2])"
   ]
  },
  {
   "cell_type": "code",
   "execution_count": 47,
   "id": "53dab291-914c-4914-bcc9-2f2ee3c65c3d",
   "metadata": {},
   "outputs": [
    {
     "name": "stdout",
     "output_type": "stream",
     "text": [
      "first movie zebra\n",
      "Second movie gh\n",
      "third movie uh\n"
     ]
    },
    {
     "name": "stdout",
     "output_type": "stream",
     "text": [
      "['zebra', 'gh', 'uh']\n",
      "<class 'list'>\n"
     ]
    }
   ],
   "source": [
    "# ask names of favorite movies and store in list\n",
    "\n",
    "movie1=input(\"first movie\")\n",
    "movie2=input(\"Second movie\")\n",
    "movie3=input(\"third movie\")\n",
    "moviename=[movie1,movie2,movie3]\n",
    "print (moviename)\n",
    "print(type(moviename))"
   ]
  },
  {
   "cell_type": "code",
   "execution_count": 80,
   "id": "c5d616a7-0ec4-4572-a201-40e437f280bd",
   "metadata": {},
   "outputs": [
    {
     "name": "stdout",
     "output_type": "stream",
     "text": [
      "[1, 2, 3, 2, 1]\n",
      "[1, 'abc', 'abc', 1]\n",
      "[1, 2, 3, 2, 1]\n",
      "[1, 'abc', 'abc', 1]\n",
      "List is palindrome\n"
     ]
    }
   ],
   "source": [
    "#check list is palindrome or not\n",
    "\n",
    "list=[1,2,3,2,1]\n",
    "list4=[1,\"abc\",\"abc\",1]\n",
    "b=(list.copy())\n",
    "c=(list4.copy())\n",
    "print(b)\n",
    "print(c)\n",
    "(b.reverse())\n",
    "(c.reverse())\n",
    "print(b)\n",
    "print(c)\n",
    "if (b==list and c==list4):\n",
    "    \n",
    "        print(\"List is palindrome\")\n",
    "else:\n",
    "    print(\"List is not palindrome\")\n"
   ]
  },
  {
   "cell_type": "code",
   "execution_count": 64,
   "id": "94d6ce9f-108e-435d-830b-fff6d7fa495f",
   "metadata": {},
   "outputs": [
    {
     "name": "stdout",
     "output_type": "stream",
     "text": [
      "[1, 'abc', 'abc', 1]\n",
      "[1, 'abc', 'abc', 1]\n",
      "List is palindrome\n"
     ]
    }
   ],
   "source": [
    "#check list is palindrome or not\n",
    "\n",
    "list=[1,\"abc\",\"abc\",1]\n",
    "b=(list.copy())\n",
    "print(b)\n",
    "(b.reverse())\n",
    "print(b)\n",
    "if (b==list):\n",
    "    print(\"List is palindrome\")\n",
    "else:\n",
    "    print(\"List is not palindrome\")\n"
   ]
  },
  {
   "cell_type": "code",
   "execution_count": 67,
   "id": "34505a2d-29b8-4dc2-b854-040f4101ee68",
   "metadata": {},
   "outputs": [
    {
     "name": "stdout",
     "output_type": "stream",
     "text": [
      "Count of no.of students: 3\n"
     ]
    }
   ],
   "source": [
    "# count of number of students with \"A\"\n",
    "\n",
    "Grades=(\"C\",\"D\",\"A\",\"A\",\"B\",\"B\",\"A\")\n",
    "print(\"Count of no.of students:\",Grades.count(\"A\"))"
   ]
  },
  {
   "cell_type": "code",
   "execution_count": 82,
   "id": "a00b7e3e-a1e3-42d3-b14e-fbccdbc651fb",
   "metadata": {},
   "outputs": [
    {
     "name": "stdout",
     "output_type": "stream",
     "text": [
      "Sort of students Grades : ['A', 'A', 'A', 'B', 'B', 'C', 'D']\n"
     ]
    }
   ],
   "source": [
    "# Sort the list A to D\n",
    "\n",
    "Grades=[\"C\",\"D\",\"A\",\"A\",\"B\",\"B\",\"A\"]\n",
    "Grades.sort()\n",
    "print(\"Sort of students Grades :\",(Grades))"
   ]
  },
  {
   "cell_type": "code",
   "execution_count": 22,
   "id": "f19a7535-7daa-4efa-8aba-dc0b2045b142",
   "metadata": {},
   "outputs": [
    {
     "name": "stdout",
     "output_type": "stream",
     "text": [
      "<class 'dict'>\n",
      "{}\n",
      "dict_keys(['fname', 'lname', 'city'])\n",
      "dict_values(['Shreya', 'gupta', 'Panna'])\n",
      "dict_items([('fname', 'Shreya'), ('lname', 'gupta'), ('city', 'Panna')])\n",
      "{'fname': 'Hri'}\n",
      "{'fname': 'Hri', 'lname': 'gupta', 'city': 'Panna'}\n"
     ]
    }
   ],
   "source": [
    "#Dict\n",
    "\n",
    "dic={\"fname\":\"Shreya\",\"lname\":\"gupta\",\"city\":\"Panna\"}\n",
    "print(type(dic))\n",
    "dic7={}\n",
    "print(dic7)\n",
    "print(dic.keys())\n",
    "print(dic.values())\n",
    "print(dic.items())\n",
    "dic7={\"fname\":\"Hri\"}\n",
    "print(dic7)\n",
    "dic.update(dic7)\n",
    "print(dic)"
   ]
  },
  {
   "cell_type": "code",
   "execution_count": 43,
   "id": "c9c2ff90-6af5-4c65-82f5-6efe96286a8b",
   "metadata": {},
   "outputs": [
    {
     "name": "stdout",
     "output_type": "stream",
     "text": [
      "<class 'set'>\n",
      "set()\n",
      "{'Panna', 'Shreya', 'gupta', 'city', 'lname'}\n",
      "{'Panna', 'Shreya', 'gupta', 'city', 'lname', 'fname'}\n",
      "{'Panna', 'gupta', 'C', 'B', 'D', 'Shreya', 'city', 'lname', 'A', 'fname'}\n",
      "{'Panna', 'city'}\n",
      "{'Shreya', 'gupta', 'city', 'lname', 'fname'}\n",
      "set()\n"
     ]
    }
   ],
   "source": [
    "#set\n",
    "\n",
    "call={\"fname\",\"Shreya\",\"lname\",\"gupta\",\"city\",\"Panna\"}\n",
    "Grades={\"C\",\"D\",\"A\",\"A\",\"B\",\"B\",\"A\",\"city\",\"Panna\"}\n",
    "print(type(call))\n",
    "call1 = set()\n",
    "print(call1)\n",
    "call.remove(\"fname\")\n",
    "print(call)\n",
    "call.add(\"fname\")\n",
    "print(call)\n",
    "print(call.union(Grades))\n",
    "print(call.intersection(Grades))\n",
    "call.pop()\n",
    "print(call)\n",
    "call.clear()\n",
    "print(call)"
   ]
  },
  {
   "cell_type": "code",
   "execution_count": 44,
   "id": "df3cf30a-3b9e-4150-a2ad-425e330ab9dd",
   "metadata": {},
   "outputs": [
    {
     "name": "stdout",
     "output_type": "stream",
     "text": [
      "{'table': ['a piece of furniture ', 'list of facts & figures'], 'cat': 'a small animal'}\n"
     ]
    }
   ],
   "source": [
    "#store word meaning in dic \n",
    "\n",
    "mydic={\"table\":[\"a piece of furniture \",\"list of facts & figures\"],\"cat\":\"a small animal\"}\n",
    "print(mydic)\n"
   ]
  },
  {
   "cell_type": "code",
   "execution_count": 1,
   "id": "919244ea-2ff6-4b93-8171-7830f5fb0dce",
   "metadata": {},
   "outputs": [
    {
     "name": "stdout",
     "output_type": "stream",
     "text": [
      "Unique subjects: {'C', 'java', 'python', 'C++', 'javascript'}\n",
      "Total classrooms needed: 5\n"
     ]
    }
   ],
   "source": [
    "# list of stu subj .Assume 1 classroom for 1 subj .calculated needed classroom for all students \n",
    "\n",
    "student_subjects = [\"python\", \"java\", \"C++\", \"python\", \"javascript\", \"java\", \"python\", \"java\", \"C++\", \"C\"]\n",
    "\n",
    "# Use a set to get unique subjects\n",
    "unique_subjects = set(student_subjects)\n",
    "print(\"Unique subjects:\", unique_subjects)\n",
    "\n",
    "# Calculate number of classrooms\n",
    "num_classrooms = len(unique_subjects)\n",
    "print(\"Total classrooms needed:\", num_classrooms)\n"
   ]
  },
  {
   "cell_type": "code",
   "execution_count": 10,
   "id": "1f23b5d8-8da4-4ae8-ac7a-842e4413d23d",
   "metadata": {},
   "outputs": [
    {
     "name": "stdout",
     "output_type": "stream",
     "text": [
      "{}\n",
      "{'': ''}\n"
     ]
    }
   ],
   "source": [
    "# store marks in key values pairs \n",
    "\n",
    "mydic={}\n",
    "print(mydic)\n",
    "\n",
    "subject1=input(\"enter your subj1\")\n",
    "subject1_marks=input(\"enter your marks\")\n",
    "subject2=input(\"enter your subj2\")\n",
    "subject2_marks=input(\"enter your marks\")\n",
    "subject3=input(\"enter your subj3\")\n",
    "subject3_marks=input(\"enter your marks\")\n",
    "\n",
    "mydic[subject1]=subject1_marks\n",
    "mydic[subject2]=subject2_marks\n",
    "mydic[subject3]=subject3_marks\n",
    "print(mydic)\n"
   ]
  },
  {
   "cell_type": "code",
   "execution_count": 11,
   "id": "699e2b06",
   "metadata": {},
   "outputs": [
    {
     "name": "stdout",
     "output_type": "stream",
     "text": [
      "{9, '9.0'}\n"
     ]
    }
   ],
   "source": [
    "# store 9 and 9.0\n",
    "\n",
    "set={9,\"9.0\"}\n",
    "print (set)\n"
   ]
  },
  {
   "cell_type": "code",
   "execution_count": 3,
   "id": "0f48ec5f",
   "metadata": {},
   "outputs": [
    {
     "name": "stdout",
     "output_type": "stream",
     "text": [
      "1\n",
      "2\n",
      "3\n",
      "4\n",
      "5\n",
      "6\n",
      "7\n",
      "8\n",
      "9\n",
      "10\n",
      "11\n",
      "12\n",
      "13\n",
      "14\n",
      "15\n",
      "16\n",
      "17\n",
      "18\n",
      "19\n",
      "20\n",
      "21\n",
      "22\n",
      "23\n",
      "24\n",
      "25\n",
      "26\n",
      "27\n",
      "28\n",
      "29\n",
      "30\n",
      "31\n",
      "32\n",
      "33\n",
      "34\n",
      "35\n",
      "36\n",
      "37\n",
      "38\n",
      "39\n",
      "40\n",
      "41\n",
      "42\n",
      "43\n",
      "44\n",
      "45\n",
      "46\n",
      "47\n",
      "48\n",
      "49\n",
      "50\n",
      "51\n",
      "52\n",
      "53\n",
      "54\n",
      "55\n",
      "56\n",
      "57\n",
      "58\n",
      "59\n",
      "60\n",
      "61\n",
      "62\n",
      "63\n",
      "64\n",
      "65\n",
      "66\n",
      "67\n",
      "68\n",
      "69\n",
      "70\n",
      "71\n",
      "72\n",
      "73\n",
      "74\n",
      "75\n",
      "76\n",
      "77\n",
      "78\n",
      "79\n",
      "80\n",
      "81\n",
      "82\n",
      "83\n",
      "84\n",
      "85\n",
      "86\n",
      "87\n",
      "88\n",
      "89\n",
      "90\n",
      "91\n",
      "92\n",
      "93\n",
      "94\n",
      "95\n",
      "96\n",
      "97\n",
      "98\n",
      "99\n",
      "100\n"
     ]
    }
   ],
   "source": [
    "# print 1 to 100\n",
    "\n",
    "i=1\n",
    "while i<=100:\n",
    "    print(i)\n",
    "    i+=1"
   ]
  },
  {
   "cell_type": "code",
   "execution_count": 6,
   "id": "96d5a8b3-54d8-4d82-ac96-d852f3b9bbe1",
   "metadata": {},
   "outputs": [
    {
     "name": "stdout",
     "output_type": "stream",
     "text": [
      "100\n",
      "99\n",
      "98\n",
      "97\n",
      "96\n",
      "95\n",
      "94\n",
      "93\n",
      "92\n",
      "91\n",
      "90\n",
      "89\n",
      "88\n",
      "87\n",
      "86\n",
      "85\n",
      "84\n",
      "83\n",
      "82\n",
      "81\n",
      "80\n",
      "79\n",
      "78\n",
      "77\n",
      "76\n",
      "75\n",
      "74\n",
      "73\n",
      "72\n",
      "71\n",
      "70\n",
      "69\n",
      "68\n",
      "67\n",
      "66\n",
      "65\n",
      "64\n",
      "63\n",
      "62\n",
      "61\n",
      "60\n",
      "59\n",
      "58\n",
      "57\n",
      "56\n",
      "55\n",
      "54\n",
      "53\n",
      "52\n",
      "51\n",
      "50\n",
      "49\n",
      "48\n",
      "47\n",
      "46\n",
      "45\n",
      "44\n",
      "43\n",
      "42\n",
      "41\n",
      "40\n",
      "39\n",
      "38\n",
      "37\n",
      "36\n",
      "35\n",
      "34\n",
      "33\n",
      "32\n",
      "31\n",
      "30\n",
      "29\n",
      "28\n",
      "27\n",
      "26\n",
      "25\n",
      "24\n",
      "23\n",
      "22\n",
      "21\n",
      "20\n",
      "19\n",
      "18\n",
      "17\n",
      "16\n",
      "15\n",
      "14\n",
      "13\n",
      "12\n",
      "11\n",
      "10\n",
      "9\n",
      "8\n",
      "7\n",
      "6\n",
      "5\n",
      "4\n",
      "3\n",
      "2\n",
      "1\n"
     ]
    }
   ],
   "source": [
    "# print 100 to 1\n",
    "\n",
    "i=100\n",
    "while i>=1:\n",
    "    print(i)\n",
    "    i-=1"
   ]
  },
  {
   "cell_type": "code",
   "execution_count": 10,
   "id": "ab3abc5d-63a4-4e0b-8e3c-a2ddefa3a54e",
   "metadata": {},
   "outputs": [
    {
     "name": "stdin",
     "output_type": "stream",
     "text": [
      "Write your number 4\n"
     ]
    },
    {
     "name": "stdout",
     "output_type": "stream",
     "text": [
      "4\n",
      "8\n",
      "12\n",
      "16\n",
      "20\n",
      "24\n",
      "28\n",
      "32\n",
      "36\n",
      "40\n"
     ]
    }
   ],
   "source": [
    "# print multiplication of n\n",
    "\n",
    "n=int(input(\"Write your number\"))\n",
    "i=1\n",
    "while (i<=10):\n",
    "    print(n*i)\n",
    "    i+=1\n"
   ]
  },
  {
   "cell_type": "code",
   "execution_count": 18,
   "id": "bb994395-1d10-41c5-9ee0-1397d00353c4",
   "metadata": {},
   "outputs": [
    {
     "name": "stdout",
     "output_type": "stream",
     "text": [
      "1\n",
      "4\n",
      "9\n",
      "16\n",
      "25\n",
      "36\n",
      "49\n",
      "64\n",
      "81\n",
      "100\n"
     ]
    }
   ],
   "source": [
    "# print list element one by one while loop\n",
    "\n",
    "l =[1,4,9,16,25,36,49,64,81,100]\n",
    "i=0\n",
    "while (i<len(l)):\n",
    "    print(l[i])\n",
    "    i+=1"
   ]
  },
  {
   "cell_type": "code",
   "execution_count": 11,
   "id": "dd98d6d5-b21a-42d4-9868-8a3d66cc4db5",
   "metadata": {},
   "outputs": [
    {
     "name": "stdin",
     "output_type": "stream",
     "text": [
      "Enter your number 5\n"
     ]
    },
    {
     "name": "stdout",
     "output_type": "stream",
     "text": [
      "Not Found\n",
      "Not Found\n",
      "Not Found\n",
      "Not Found\n",
      "Not Found\n",
      "Not Found\n",
      "Not Found\n",
      "Not Found\n",
      "Not Found\n",
      "Not Found\n"
     ]
    }
   ],
   "source": [
    "# search x element while loop\n",
    "\n",
    "l =(1,4,9,16,25,36,49,64,81,100)\n",
    "x= int(input(\"Enter your number\"))\n",
    "i=0\n",
    "while i<len(l):\n",
    "    if l[i]==x :\n",
    "        print(\"Found\",i)\n",
    "    else:\n",
    "        print(\"Not Found\")\n",
    "    i+=1"
   ]
  },
  {
   "cell_type": "code",
   "execution_count": 4,
   "id": "b5c30a2a-08a5-43b6-b364-ceebe4370a4f",
   "metadata": {},
   "outputs": [
    {
     "name": "stdout",
     "output_type": "stream",
     "text": [
      "1\n",
      "4\n",
      "9\n",
      "16\n",
      "25\n",
      "36\n",
      "49\n",
      "64\n",
      "81\n",
      "100\n"
     ]
    }
   ],
   "source": [
    "# print list element one by one for loop\n",
    "\n",
    "list =[1,4,9,16,25,36,49,64,81,100]\n",
    "for el in list:\n",
    "    print(el)"
   ]
  },
  {
   "cell_type": "code",
   "execution_count": 33,
   "id": "a9e41638-499e-495b-a0be-718ac17c1984",
   "metadata": {},
   "outputs": [
    {
     "name": "stdin",
     "output_type": "stream",
     "text": [
      "Write x element:  25\n"
     ]
    },
    {
     "name": "stdout",
     "output_type": "stream",
     "text": [
      "Found at index 4\n"
     ]
    }
   ],
   "source": [
    "#### search x element one by one for loop\n",
    "\n",
    "l = (1, 4, 9, 16, 25, 36, 49, 64, 81, 100)\n",
    "x = int(input(\"Write x element: \"))\n",
    "i = 0\n",
    "\n",
    "for el in l:\n",
    "    if el == x:\n",
    "        print(\"Found at index\", i)\n",
    "        break\n",
    "    i += 1\n",
    "else:\n",
    "    print(\"Not Found\")\n",
    "   "
   ]
  },
  {
   "cell_type": "code",
   "execution_count": 1,
   "id": "ac3e8b5e-a62b-4cea-aabd-60affd05073c",
   "metadata": {},
   "outputs": [
    {
     "name": "stdout",
     "output_type": "stream",
     "text": [
      "1\n",
      "2\n",
      "3\n",
      "4\n",
      "5\n",
      "6\n",
      "7\n",
      "8\n",
      "9\n",
      "10\n",
      "11\n",
      "12\n",
      "13\n",
      "14\n",
      "15\n",
      "16\n",
      "17\n",
      "18\n",
      "19\n",
      "20\n",
      "21\n",
      "22\n",
      "23\n",
      "24\n",
      "25\n",
      "26\n",
      "27\n",
      "28\n",
      "29\n",
      "30\n",
      "31\n",
      "32\n",
      "33\n",
      "34\n",
      "35\n",
      "36\n",
      "37\n",
      "38\n",
      "39\n",
      "40\n",
      "41\n",
      "42\n",
      "43\n",
      "44\n",
      "45\n",
      "46\n",
      "47\n",
      "48\n",
      "49\n",
      "50\n",
      "51\n",
      "52\n",
      "53\n",
      "54\n",
      "55\n",
      "56\n",
      "57\n",
      "58\n",
      "59\n",
      "60\n",
      "61\n",
      "62\n",
      "63\n",
      "64\n",
      "65\n",
      "66\n",
      "67\n",
      "68\n",
      "69\n",
      "70\n",
      "71\n",
      "72\n",
      "73\n",
      "74\n",
      "75\n",
      "76\n",
      "77\n",
      "78\n",
      "79\n",
      "80\n",
      "81\n",
      "82\n",
      "83\n",
      "84\n",
      "85\n",
      "86\n",
      "87\n",
      "88\n",
      "89\n",
      "90\n",
      "91\n",
      "92\n",
      "93\n",
      "94\n",
      "95\n",
      "96\n",
      "97\n",
      "98\n",
      "99\n",
      "100\n"
     ]
    }
   ],
   "source": [
    "# print 1 to 100 by for and range \n",
    "\n",
    "for i in range (1,101,1):\n",
    "    print(i)"
   ]
  },
  {
   "cell_type": "code",
   "execution_count": 3,
   "id": "4dede260-774f-45e0-a1f9-cc90a634aeca",
   "metadata": {},
   "outputs": [
    {
     "name": "stdout",
     "output_type": "stream",
     "text": [
      "100\n",
      "99\n",
      "98\n",
      "97\n",
      "96\n",
      "95\n",
      "94\n",
      "93\n",
      "92\n",
      "91\n",
      "90\n",
      "89\n",
      "88\n",
      "87\n",
      "86\n",
      "85\n",
      "84\n",
      "83\n",
      "82\n",
      "81\n",
      "80\n",
      "79\n",
      "78\n",
      "77\n",
      "76\n",
      "75\n",
      "74\n",
      "73\n",
      "72\n",
      "71\n",
      "70\n",
      "69\n",
      "68\n",
      "67\n",
      "66\n",
      "65\n",
      "64\n",
      "63\n",
      "62\n",
      "61\n",
      "60\n",
      "59\n",
      "58\n",
      "57\n",
      "56\n",
      "55\n",
      "54\n",
      "53\n",
      "52\n",
      "51\n",
      "50\n",
      "49\n",
      "48\n",
      "47\n",
      "46\n",
      "45\n",
      "44\n",
      "43\n",
      "42\n",
      "41\n",
      "40\n",
      "39\n",
      "38\n",
      "37\n",
      "36\n",
      "35\n",
      "34\n",
      "33\n",
      "32\n",
      "31\n",
      "30\n",
      "29\n",
      "28\n",
      "27\n",
      "26\n",
      "25\n",
      "24\n",
      "23\n",
      "22\n",
      "21\n",
      "20\n",
      "19\n",
      "18\n",
      "17\n",
      "16\n",
      "15\n",
      "14\n",
      "13\n",
      "12\n",
      "11\n",
      "10\n",
      "9\n",
      "8\n",
      "7\n",
      "6\n",
      "5\n",
      "4\n",
      "3\n",
      "2\n",
      "1\n"
     ]
    }
   ],
   "source": [
    "# print 100 to 1 by for and range \n",
    "\n",
    "for i in range (100,0,-1):\n",
    "    print(i)"
   ]
  },
  {
   "cell_type": "code",
   "execution_count": 1,
   "id": "56270f2c-7caf-4f62-bf8f-8cdbd055a141",
   "metadata": {},
   "outputs": [
    {
     "name": "stdin",
     "output_type": "stream",
     "text": [
      "write your no. 5\n"
     ]
    },
    {
     "name": "stdout",
     "output_type": "stream",
     "text": [
      "5\n",
      "10\n",
      "15\n",
      "20\n",
      "25\n",
      "30\n",
      "35\n",
      "40\n",
      "45\n",
      "50\n"
     ]
    }
   ],
   "source": [
    "# print multiplication of no. n by range and for \n",
    "\n",
    "n=int(input(\"write your no.\"))\n",
    "for i in range (1,11,1):\n",
    "    print(n*i)"
   ]
  },
  {
   "cell_type": "code",
   "execution_count": 2,
   "id": "349ee58e-c009-4f8e-a078-fa1249775909",
   "metadata": {},
   "outputs": [
    {
     "name": "stdin",
     "output_type": "stream",
     "text": [
      "Enter a number:  5\n"
     ]
    },
    {
     "name": "stdout",
     "output_type": "stream",
     "text": [
      "sum is : 15\n"
     ]
    }
   ],
   "source": [
    "# find the sum of first natural numbers (using while )\n",
    "\n",
    "i=1\n",
    "sum=0\n",
    "n = int(input(\"Enter a number: \"))\n",
    "while i<=n:\n",
    "    sum +=i\n",
    "    i+=1\n",
    "print(\"sum is :\",sum ) \n"
   ]
  },
  {
   "cell_type": "code",
   "execution_count": 3,
   "id": "775043bd-b220-4f00-ba06-a44987c095f0",
   "metadata": {},
   "outputs": [
    {
     "name": "stdin",
     "output_type": "stream",
     "text": [
      "Enter a number:  8\n"
     ]
    },
    {
     "name": "stdout",
     "output_type": "stream",
     "text": [
      "sum is : 36\n"
     ]
    }
   ],
   "source": [
    "# find the sum of first natural numbers (using for)\n",
    "sum = 0\n",
    "n = int(input(\"Enter a number: \"))\n",
    "for i in range(1, n+1): \n",
    "    sum += i            \n",
    "print(\"sum is :\", sum)"
   ]
  },
  {
   "cell_type": "code",
   "execution_count": 4,
   "id": "de6d93b3-35c6-48bf-a3fe-ea3be8a8c362",
   "metadata": {},
   "outputs": [
    {
     "name": "stdin",
     "output_type": "stream",
     "text": [
      "Enter a number:  5\n"
     ]
    },
    {
     "name": "stdout",
     "output_type": "stream",
     "text": [
      "120\n"
     ]
    }
   ],
   "source": [
    "# find the factorial of first natural numbers (for loop)\n",
    "n = int(input(\"Enter a number: \"))\n",
    "fact=1\n",
    "for i in range (1,n+1):\n",
    "    fact*=i\n",
    "print (fact)"
   ]
  },
  {
   "cell_type": "code",
   "execution_count": 1,
   "id": "e4f70daa-bc02-497c-8fba-8a477ec45788",
   "metadata": {},
   "outputs": [
    {
     "name": "stdin",
     "output_type": "stream",
     "text": [
      "Enter a number:  10\n"
     ]
    },
    {
     "name": "stdout",
     "output_type": "stream",
     "text": [
      "3628800\n"
     ]
    }
   ],
   "source": [
    "#find the factorial of first natural numbers (while loop)\n",
    "\n",
    "i=1\n",
    "fact=1\n",
    "n = int(input(\"Enter a number: \"))\n",
    "while i<=n:\n",
    "    fact*=i\n",
    "    i+=1\n",
    "print(fact)\n"
   ]
  },
  {
   "cell_type": "code",
   "execution_count": 17,
   "id": "245a11ba-cc14-47ba-bd1a-62341f8d0061",
   "metadata": {},
   "outputs": [
    {
     "name": "stdin",
     "output_type": "stream",
     "text": [
      "Enter a number:  4\n"
     ]
    },
    {
     "name": "stdout",
     "output_type": "stream",
     "text": [
      "sum is : 10\n",
      "average is : 2.5\n",
      "average is : 2.5\n"
     ]
    }
   ],
   "source": [
    "# calculate average by function \n",
    "\n",
    "def calc_average():\n",
    "    sum = 0\n",
    "    n = int(input(\"Enter a number: \"))\n",
    "    for i in range(1, n+1): \n",
    "        sum += i            \n",
    "    average=sum/n\n",
    "    print(\"sum is :\", sum)\n",
    "    print(\"average is :\",average)\n",
    "    return average\n",
    "\n",
    "print(\"average is :\",calc_average())\n",
    "\n",
    "\n",
    "\n",
    "\n"
   ]
  },
  {
   "cell_type": "code",
   "execution_count": 28,
   "id": "7b1d9acf-c55c-40a7-9b00-85ca87109fd7",
   "metadata": {},
   "outputs": [
    {
     "name": "stdin",
     "output_type": "stream",
     "text": [
      "Enter a number a:  4\n",
      "Enter a number b:  5\n",
      "Enter a number c:  5\n"
     ]
    },
    {
     "name": "stdout",
     "output_type": "stream",
     "text": [
      "14\n",
      "4\n"
     ]
    },
    {
     "data": {
      "text/plain": [
       "4.666666666666667"
      ]
     },
     "execution_count": 28,
     "metadata": {},
     "output_type": "execute_result"
    }
   ],
   "source": [
    "# calculate average by function  \n",
    "\n",
    "a = int(input(\"Enter a number a: \"))\n",
    "b = int(input(\"Enter a number b: \"))\n",
    "c = int(input(\"Enter a number c: \"))\n",
    "\n",
    "def calc_average(a,b,c):\n",
    "    sum=a+b+c\n",
    "    print(sum)\n",
    "    average =sum/3\n",
    "    print(int(average))\n",
    "    return (average)\n",
    "calc_average(a,b,c)"
   ]
  },
  {
   "cell_type": "code",
   "execution_count": 30,
   "id": "5146e466-2d3b-48d0-953c-f8649186b6b7",
   "metadata": {},
   "outputs": [
    {
     "name": "stdout",
     "output_type": "stream",
     "text": [
      "7\n"
     ]
    },
    {
     "data": {
      "text/plain": [
       "7"
      ]
     },
     "execution_count": 30,
     "metadata": {},
     "output_type": "execute_result"
    }
   ],
   "source": [
    "# print the length of a list (list is the parameter)\n",
    "\n",
    "def len_list(alphabet):\n",
    "    print(len(alphabet))\n",
    "    return (len(alphabet))\n",
    "\n",
    "len_list([\"a\",\"b\",\"c\",\"d\",\"c\",\"h\",\"d\"])"
   ]
  },
  {
   "cell_type": "code",
   "execution_count": 39,
   "id": "1d7b93f2-61da-4e9b-9d5f-8899a1c9e188",
   "metadata": {},
   "outputs": [
    {
     "name": "stdout",
     "output_type": "stream",
     "text": [
      "abcdchd"
     ]
    }
   ],
   "source": [
    "# print the elements of a list in a single line(list is the parameter)\n",
    "\n",
    "def prin_list(alphabet):\n",
    "    i=0\n",
    "    for i in range (i ,len(alphabet),1):\n",
    "        print(alphabet[i],end=\"\")\n",
    "        \n",
    "    \n",
    "prin_list([\"a\",\"b\",\"c\",\"d\",\"c\",\"h\",\"d\"])"
   ]
  },
  {
   "cell_type": "code",
   "execution_count": 70,
   "id": "bdecb5d1-3589-4758-b2fc-c2dad919c7b4",
   "metadata": {},
   "outputs": [
    {
     "name": "stdout",
     "output_type": "stream",
     "text": [
      "1\n",
      "2\n",
      "6\n",
      "24\n",
      "120\n"
     ]
    },
    {
     "data": {
      "text/plain": [
       "120"
      ]
     },
     "execution_count": 70,
     "metadata": {},
     "output_type": "execute_result"
    }
   ],
   "source": [
    "# print the factorial of n (n is the parameter)\n",
    "\n",
    "def factorial (n):\n",
    "    fact=1\n",
    "    for i in range (1,n+1):\n",
    "        fact*=i\n",
    "        print(fact)\n",
    "    return(fact)\n",
    "        \n",
    "factorial (5)"
   ]
  },
  {
   "cell_type": "code",
   "execution_count": 66,
   "id": "607ca8ed-43aa-40d1-acb7-0a069fa2d8f1",
   "metadata": {},
   "outputs": [
    {
     "name": "stdin",
     "output_type": "stream",
     "text": [
      "Enter a number b:  5\n"
     ]
    },
    {
     "name": "stdout",
     "output_type": "stream",
     "text": [
      "417.5\n"
     ]
    }
   ],
   "source": [
    "# conversion of usd to inr \n",
    "\n",
    "usd =int(input(\"Enter a number b: \"))\n",
    "def calc_inr(usd):\n",
    "    conversion =83.5\n",
    "    inr=usd*conversion\n",
    "    print (inr)\n",
    "\n",
    "calc_inr(usd)"
   ]
  },
  {
   "cell_type": "code",
   "execution_count": 96,
   "id": "db6b9f42-27e7-4eac-a169-e59ff7f71b8a",
   "metadata": {},
   "outputs": [
    {
     "name": "stdin",
     "output_type": "stream",
     "text": [
      "Enter a number n:  10\n"
     ]
    },
    {
     "name": "stdout",
     "output_type": "stream",
     "text": [
      "Even\n"
     ]
    }
   ],
   "source": [
    "# odd and even return function \n",
    "\n",
    "n =int(input(\"Enter a number n: \"))\n",
    "def odd_even (n):\n",
    "    if n%2==0:\n",
    "        print(\"Even\")\n",
    "    else:\n",
    "        print(\"Odd\")\n",
    "odd_even(n)"
   ]
  },
  {
   "cell_type": "code",
   "execution_count": 6,
   "id": "e388bce6-5a00-4a57-adfe-35cb39b0cd52",
   "metadata": {},
   "outputs": [
    {
     "data": {
      "text/plain": [
       "36"
      ]
     },
     "execution_count": 6,
     "metadata": {},
     "output_type": "execute_result"
    }
   ],
   "source": [
    "# write the function to sum of n natural number\n",
    "\n",
    "def calc_sum(n):\n",
    "    if (n<=0):\n",
    "        return 0\n",
    "    return n+calc_sum(n-1)\n",
    "    \n",
    "calc_sum(8)\n"
   ]
  },
  {
   "cell_type": "code",
   "execution_count": 26,
   "id": "0ef8193d-7103-4638-89a8-26fb70c95ea0",
   "metadata": {},
   "outputs": [
    {
     "name": "stdout",
     "output_type": "stream",
     "text": [
      "abceihd"
     ]
    }
   ],
   "source": [
    "# write a function to print whole list not in next line\n",
    "\n",
    "def print_el (n):\n",
    "    i=0\n",
    "    for i in range (i,len(n),1):\n",
    "        print(n[i],end=\"\")\n",
    "        \n",
    "print_el([\"a\",\"b\",\"c\",\"e\",\"i\",\"h\",\"d\"])"
   ]
  },
  {
   "cell_type": "code",
   "execution_count": 27,
   "id": "800e3ceb-2642-4ec5-b3a8-43aaa2734487",
   "metadata": {},
   "outputs": [
    {
     "data": {
      "text/plain": [
       "array([[[ 1,  2,  3],\n",
       "        [ 4,  5,  6]],\n",
       "\n",
       "       [[ 7,  8,  9],\n",
       "        [10, 11, 12]],\n",
       "\n",
       "       [[13, 14, 15],\n",
       "        [16, 17, 18]]])"
      ]
     },
     "execution_count": 27,
     "metadata": {},
     "output_type": "execute_result"
    }
   ],
   "source": [
    "#Performing 3D Matrix\n",
    "\n",
    "mat=np.array([[[1,2,3],[4,5,6]],[[7,8,9],[10,11,12]],[[13,14,15],[16,17,18]]])\n",
    "mat\n"
   ]
  },
  {
   "cell_type": "code",
   "execution_count": 28,
   "id": "8918f523-a84a-4968-9258-cf5cfd4ef27b",
   "metadata": {},
   "outputs": [
    {
     "data": {
      "text/plain": [
       "3"
      ]
     },
     "execution_count": 28,
     "metadata": {},
     "output_type": "execute_result"
    }
   ],
   "source": [
    "mat.ndim"
   ]
  },
  {
   "cell_type": "code",
   "execution_count": 29,
   "id": "9e169f8b-e441-4ec2-a1a9-f396d4ee8361",
   "metadata": {},
   "outputs": [
    {
     "data": {
      "text/plain": [
       "array([[[[ 1,  2,  3],\n",
       "         [ 4,  5,  6]]],\n",
       "\n",
       "\n",
       "       [[[ 7,  8,  9],\n",
       "         [10, 11, 12]]],\n",
       "\n",
       "\n",
       "       [[[13, 14, 15],\n",
       "         [16, 17, 18]]],\n",
       "\n",
       "\n",
       "       [[[19, 20, 21],\n",
       "         [22, 23, 24]]]])"
      ]
     },
     "execution_count": 29,
     "metadata": {},
     "output_type": "execute_result"
    }
   ],
   "source": [
    "#Performing 4D Matrix\n",
    "\n",
    "mat=np.array([[[[1,2,3],[4,5,6]]],[[[7,8,9],[10,11,12]]],[[[13,14,15],[16,17,18]]],[[[19,20,21],[22,23,24]]]])\n",
    "mat\n"
   ]
  },
  {
   "cell_type": "code",
   "execution_count": 30,
   "id": "e839937e-3e96-4c12-bf51-0a440a8b37cc",
   "metadata": {},
   "outputs": [
    {
     "data": {
      "text/plain": [
       "4"
      ]
     },
     "execution_count": 30,
     "metadata": {},
     "output_type": "execute_result"
    }
   ],
   "source": [
    "mat.ndim"
   ]
  },
  {
   "cell_type": "code",
   "execution_count": 31,
   "id": "2d440f03-2920-4d84-b752-955ce6a0a4ed",
   "metadata": {},
   "outputs": [
    {
     "data": {
      "text/plain": [
       "array([[1, 2, 3],\n",
       "       [4, 5, 6]])"
      ]
     },
     "execution_count": 31,
     "metadata": {},
     "output_type": "execute_result"
    }
   ],
   "source": [
    "import numpy as np  \n",
    "arr2=np.array([[1,2,3],[4,5,6]])\n",
    "arr2\n"
   ]
  },
  {
   "cell_type": "code",
   "execution_count": 32,
   "id": "3dfb55ff-d879-43c5-9ba4-73170511a44a",
   "metadata": {},
   "outputs": [
    {
     "data": {
      "text/plain": [
       "array([[1, 2, 3],\n",
       "       [4, 5, 6]])"
      ]
     },
     "execution_count": 32,
     "metadata": {},
     "output_type": "execute_result"
    }
   ],
   "source": [
    "arr2\n"
   ]
  },
  {
   "cell_type": "code",
   "execution_count": 33,
   "id": "2a4e3357-1a1d-4287-87ef-4f74f949f131",
   "metadata": {},
   "outputs": [
    {
     "name": "stdout",
     "output_type": "stream",
     "text": [
      "Requirement already satisfied: kagglehub in c:\\users\\asus\\appdata\\local\\programs\\python\\python312\\lib\\site-packages (0.3.12)\n",
      "Requirement already satisfied: packaging in c:\\users\\asus\\appdata\\local\\programs\\python\\python312\\lib\\site-packages (from kagglehub) (24.2)\n",
      "Requirement already satisfied: pyyaml in c:\\users\\asus\\appdata\\local\\programs\\python\\python312\\lib\\site-packages (from kagglehub) (6.0.2)\n",
      "Requirement already satisfied: requests in c:\\users\\asus\\appdata\\local\\programs\\python\\python312\\lib\\site-packages (from kagglehub) (2.31.0)\n",
      "Requirement already satisfied: tqdm in c:\\users\\asus\\appdata\\local\\programs\\python\\python312\\lib\\site-packages (from kagglehub) (4.66.5)\n",
      "Requirement already satisfied: charset-normalizer<4,>=2 in c:\\users\\asus\\appdata\\local\\programs\\python\\python312\\lib\\site-packages (from requests->kagglehub) (3.3.2)\n",
      "Requirement already satisfied: idna<4,>=2.5 in c:\\users\\asus\\appdata\\local\\programs\\python\\python312\\lib\\site-packages (from requests->kagglehub) (3.7)\n",
      "Requirement already satisfied: urllib3<3,>=1.21.1 in c:\\users\\asus\\appdata\\local\\programs\\python\\python312\\lib\\site-packages (from requests->kagglehub) (1.26.20)\n",
      "Requirement already satisfied: certifi>=2017.4.17 in c:\\users\\asus\\appdata\\local\\programs\\python\\python312\\lib\\site-packages (from requests->kagglehub) (2024.7.4)\n",
      "Requirement already satisfied: colorama in c:\\users\\asus\\appdata\\local\\programs\\python\\python312\\lib\\site-packages (from tqdm->kagglehub) (0.4.6)\n",
      "Note: you may need to restart the kernel to use updated packages.\n"
     ]
    },
    {
     "name": "stderr",
     "output_type": "stream",
     "text": [
      "\n",
      "[notice] A new release of pip is available: 24.3.1 -> 25.2\n",
      "[notice] To update, run: python.exe -m pip install --upgrade pip\n"
     ]
    }
   ],
   "source": [
    "pip install kagglehub\n"
   ]
  },
  {
   "cell_type": "code",
   "execution_count": 34,
   "id": "312f872c-5364-4a24-8d0e-4f89cae3d8be",
   "metadata": {},
   "outputs": [
    {
     "name": "stdout",
     "output_type": "stream",
     "text": [
      "Path to dataset files: C:\\Users\\ASUS\\.cache\\kagglehub\\datasets\\kuchhbhi\\cpga-iq-placement\\versions\\1\n"
     ]
    }
   ],
   "source": [
    "import kagglehub\n",
    "\n",
    "\n",
    "# Download latest version\n",
    "path = kagglehub.dataset_download(\"kuchhbhi/cpga-iq-placement\")\n",
    "\n",
    "print(\"Path to dataset files:\", path)\n",
    "\n"
   ]
  },
  {
   "cell_type": "code",
   "execution_count": 35,
   "id": "3ef8af5b-85f9-448f-b422-a418446e5f5a",
   "metadata": {},
   "outputs": [
    {
     "name": "stdout",
     "output_type": "stream",
     "text": [
      "['student_clustering.csv']\n"
     ]
    }
   ],
   "source": [
    "import os\n",
    "\n",
    "print(os.listdir(path))\n"
   ]
  },
  {
   "cell_type": "code",
   "execution_count": 36,
   "id": "03ba2673-f3ff-40cc-a69a-949e7bc93c5b",
   "metadata": {},
   "outputs": [
    {
     "name": "stdout",
     "output_type": "stream",
     "text": [
      "   cgpa   iq\n",
      "0  5.13   88\n",
      "1  5.90  113\n",
      "2  8.36   93\n",
      "3  8.27   97\n",
      "4  5.45  110\n"
     ]
    }
   ],
   "source": [
    "import pandas as pd\n",
    "import os\n",
    "\n",
    "csv_file = os.path.join(path, \"student_clustering.csv\")  # use the exact filename from step 1\n",
    "df = pd.read_csv(csv_file)\n",
    "\n",
    "print(df.head())  # preview first 5 rows"
   ]
  },
  {
   "cell_type": "code",
   "execution_count": 37,
   "id": "194feb1a-9a85-43a7-9704-74e80158d56d",
   "metadata": {},
   "outputs": [
    {
     "name": "stdout",
     "output_type": "stream",
     "text": [
      "[[  5.13  88.  ]\n",
      " [  5.9  113.  ]\n",
      " [  8.36  93.  ]\n",
      " [  8.27  97.  ]\n",
      " [  5.45 110.  ]\n",
      " [  5.88 109.  ]\n",
      " [  8.41  98.  ]\n",
      " [  8.8  115.  ]\n",
      " [  5.79 110.  ]\n",
      " [  8.09  94.  ]\n",
      " [  4.6   86.  ]\n",
      " [  6.1  110.  ]\n",
      " [  8.16  97.  ]\n",
      " [  5.    88.  ]\n",
      " [  5.71 108.  ]\n",
      " [  8.31  95.  ]\n",
      " [  5.5  111.  ]\n",
      " [  7.87  91.  ]\n",
      " [  6.05 111.  ]\n",
      " [  5.84 113.  ]\n",
      " [  7.47  98.  ]\n",
      " [  4.86  86.  ]\n",
      " [  7.78  92.  ]\n",
      " [  4.78  87.  ]\n",
      " [  4.96  88.  ]\n",
      " [  7.93  98.  ]\n",
      " [  4.86  87.  ]\n",
      " [  9.18 119.  ]\n",
      " [  8.04  94.  ]\n",
      " [  5.43 106.  ]\n",
      " [  8.86 117.  ]\n",
      " [  6.01 112.  ]\n",
      " [  8.83 118.  ]\n",
      " [  5.32 106.  ]\n",
      " [  7.77  96.  ]\n",
      " [  8.    96.  ]\n",
      " [  8.56 118.  ]\n",
      " [  5.91 108.  ]\n",
      " [  5.44  84.  ]\n",
      " [  5.57 113.  ]\n",
      " [  5.34  85.  ]\n",
      " [  8.43  96.  ]\n",
      " [  8.02  93.  ]\n",
      " [  5.31  86.  ]\n",
      " [  8.96 116.  ]\n",
      " [  8.78 116.  ]\n",
      " [  8.14  94.  ]\n",
      " [  6.4  108.  ]\n",
      " [  8.45 119.  ]\n",
      " [  5.67 109.  ]\n",
      " [  5.14  83.  ]\n",
      " [  4.95  86.  ]\n",
      " [  8.79 116.  ]\n",
      " [  8.12  96.  ]\n",
      " [  8.81 115.  ]\n",
      " [  6.05 108.  ]\n",
      " [  5.85 111.  ]\n",
      " [  8.88 115.  ]\n",
      " [  5.87 109.  ]\n",
      " [  9.07 117.  ]\n",
      " [  6.02 104.  ]\n",
      " [  8.34  96.  ]\n",
      " [  8.65  95.  ]\n",
      " [  8.92 118.  ]\n",
      " [  5.21  87.  ]\n",
      " [  8.75 113.  ]\n",
      " [  8.53  93.  ]\n",
      " [  4.91  85.  ]\n",
      " [  5.77 111.  ]\n",
      " [  8.29  95.  ]\n",
      " [  6.06 109.  ]\n",
      " [  8.71 116.  ]\n",
      " [  7.93  94.  ]\n",
      " [  5.28  83.  ]\n",
      " [  5.55 109.  ]\n",
      " [  8.86 118.  ]\n",
      " [  5.81 112.  ]\n",
      " [  9.3  117.  ]\n",
      " [  5.15  88.  ]\n",
      " [  8.72  92.  ]\n",
      " [  8.14  91.  ]\n",
      " [  9.01 121.  ]\n",
      " [  5.47 111.  ]\n",
      " [  4.9   85.  ]\n",
      " [  8.97 116.  ]\n",
      " [  4.89  88.  ]\n",
      " [  9.   117.  ]\n",
      " [  5.74 109.  ]\n",
      " [  8.76 117.  ]\n",
      " [  5.8  108.  ]\n",
      " [  8.78 117.  ]\n",
      " [  9.23 114.  ]\n",
      " [  8.2   92.  ]\n",
      " [  5.05  86.  ]\n",
      " [  8.67  95.  ]\n",
      " [  8.18  94.  ]\n",
      " [  9.03 118.  ]\n",
      " [  8.61  95.  ]\n",
      " [  4.98  91.  ]\n",
      " [  9.13 118.  ]\n",
      " [  5.88 110.  ]\n",
      " [  5.01  86.  ]\n",
      " [  4.95  88.  ]\n",
      " [  8.91 119.  ]\n",
      " [  4.96  89.  ]\n",
      " [  4.85  86.  ]\n",
      " [  7.99  92.  ]\n",
      " [  4.76  90.  ]\n",
      " [  8.98 118.  ]\n",
      " [  9.03 118.  ]\n",
      " [  8.08  94.  ]\n",
      " [  8.86 117.  ]\n",
      " [  5.91 109.  ]\n",
      " [  5.67 111.  ]\n",
      " [  8.26  91.  ]\n",
      " [  8.89 118.  ]\n",
      " [  8.25  95.  ]\n",
      " [  5.74 108.  ]\n",
      " [  8.97 117.  ]\n",
      " [  4.98  87.  ]\n",
      " [  4.78  87.  ]\n",
      " [  5.69 109.  ]\n",
      " [  8.4   93.  ]\n",
      " [  8.72 119.  ]\n",
      " [  7.84  97.  ]\n",
      " [  5.2   85.  ]\n",
      " [  8.08  98.  ]\n",
      " [  6.05 109.  ]\n",
      " [  5.05  87.  ]\n",
      " [  8.25  96.  ]\n",
      " [  8.3   93.  ]\n",
      " [  6.14 111.  ]\n",
      " [  5.01  83.  ]\n",
      " [  4.77  86.  ]\n",
      " [  5.74 112.  ]\n",
      " [  8.93 118.  ]\n",
      " [  5.94 109.  ]\n",
      " [  4.68  87.  ]\n",
      " [  7.9  100.  ]\n",
      " [  7.97  96.  ]\n",
      " [  8.21  94.  ]\n",
      " [  4.81  85.  ]\n",
      " [  5.86 111.  ]\n",
      " [  5.03  87.  ]\n",
      " [  4.98  87.  ]\n",
      " [  8.58 118.  ]\n",
      " [  5.32  88.  ]\n",
      " [  8.94 117.  ]\n",
      " [  6.38 107.  ]\n",
      " [  4.86  88.  ]\n",
      " [  8.6  117.  ]\n",
      " [  4.89  85.  ]\n",
      " [  8.77 117.  ]\n",
      " [  8.81 116.  ]\n",
      " [  4.88  86.  ]\n",
      " [  8.23  95.  ]\n",
      " [  6.61 111.  ]\n",
      " [  8.54 118.  ]\n",
      " [  6.04 110.  ]\n",
      " [  8.35  93.  ]\n",
      " [  5.01  86.  ]\n",
      " [  8.97 119.  ]\n",
      " [  6.24 108.  ]\n",
      " [  8.33  92.  ]\n",
      " [  8.91 117.  ]\n",
      " [  4.67  86.  ]\n",
      " [  6.1  109.  ]\n",
      " [  5.15  85.  ]\n",
      " [  4.97  88.  ]\n",
      " [  8.68 119.  ]\n",
      " [  9.06 120.  ]\n",
      " [  5.8  110.  ]\n",
      " [  8.9  117.  ]\n",
      " [  4.87  88.  ]\n",
      " [  5.2   89.  ]\n",
      " [  8.46  98.  ]\n",
      " [  8.94 115.  ]\n",
      " [  5.87 108.  ]\n",
      " [  4.99  88.  ]\n",
      " [  8.91 115.  ]\n",
      " [  8.91 117.  ]\n",
      " [  5.97 108.  ]\n",
      " [  6.17 110.  ]\n",
      " [  6.01 107.  ]\n",
      " [  7.89  96.  ]\n",
      " [  4.79  88.  ]\n",
      " [  7.91  93.  ]\n",
      " [  8.23  91.  ]\n",
      " [  8.95 116.  ]\n",
      " [  6.33 111.  ]\n",
      " [  8.4   93.  ]\n",
      " [  8.44  94.  ]\n",
      " [  4.76  89.  ]\n",
      " [  4.78  85.  ]\n",
      " [  8.79  96.  ]\n",
      " [  4.68  89.  ]\n",
      " [  8.57 118.  ]\n",
      " [  5.85 112.  ]\n",
      " [  6.23 108.  ]\n",
      " [  8.82 117.  ]]\n",
      "<class 'numpy.ndarray'>\n"
     ]
    }
   ],
   "source": [
    "arr = df.values\n",
    "print(arr)\n",
    "print(type(arr)) "
   ]
  },
  {
   "cell_type": "code",
   "execution_count": 38,
   "id": "d02983c9-1cec-44ad-afcc-266b18778430",
   "metadata": {},
   "outputs": [
    {
     "data": {
      "text/plain": [
       "2"
      ]
     },
     "execution_count": 38,
     "metadata": {},
     "output_type": "execute_result"
    }
   ],
   "source": [
    "arr.ndim"
   ]
  },
  {
   "cell_type": "code",
   "execution_count": 39,
   "id": "db736609-568a-472a-830f-b120893485c3",
   "metadata": {},
   "outputs": [
    {
     "name": "stdout",
     "output_type": "stream",
     "text": [
      "(2, 200)\n"
     ]
    }
   ],
   "source": [
    "arr2 = arr.reshape(2, 200)\n",
    "print(arr2.shape)\n"
   ]
  },
  {
   "cell_type": "code",
   "execution_count": 40,
   "id": "a03cdb6f-6de9-4a29-8a98-e7d99e02bfb5",
   "metadata": {},
   "outputs": [
    {
     "data": {
      "text/plain": [
       "array([[  5.13,  88.  ,   5.9 , 113.  ,   8.36,  93.  ,   8.27,  97.  ,\n",
       "          5.45, 110.  ,   5.88, 109.  ,   8.41,  98.  ,   8.8 , 115.  ,\n",
       "          5.79, 110.  ,   8.09,  94.  ,   4.6 ,  86.  ,   6.1 , 110.  ,\n",
       "          8.16,  97.  ,   5.  ,  88.  ,   5.71, 108.  ,   8.31,  95.  ,\n",
       "          5.5 , 111.  ,   7.87,  91.  ,   6.05, 111.  ,   5.84, 113.  ,\n",
       "          7.47,  98.  ,   4.86,  86.  ,   7.78,  92.  ,   4.78,  87.  ,\n",
       "          4.96,  88.  ,   7.93,  98.  ,   4.86,  87.  ,   9.18, 119.  ,\n",
       "          8.04,  94.  ,   5.43, 106.  ,   8.86, 117.  ,   6.01, 112.  ,\n",
       "          8.83, 118.  ,   5.32, 106.  ,   7.77,  96.  ,   8.  ,  96.  ,\n",
       "          8.56, 118.  ,   5.91, 108.  ,   5.44,  84.  ,   5.57, 113.  ,\n",
       "          5.34,  85.  ,   8.43,  96.  ,   8.02,  93.  ,   5.31,  86.  ,\n",
       "          8.96, 116.  ,   8.78, 116.  ,   8.14,  94.  ,   6.4 , 108.  ,\n",
       "          8.45, 119.  ,   5.67, 109.  ,   5.14,  83.  ,   4.95,  86.  ,\n",
       "          8.79, 116.  ,   8.12,  96.  ,   8.81, 115.  ,   6.05, 108.  ,\n",
       "          5.85, 111.  ,   8.88, 115.  ,   5.87, 109.  ,   9.07, 117.  ,\n",
       "          6.02, 104.  ,   8.34,  96.  ,   8.65,  95.  ,   8.92, 118.  ,\n",
       "          5.21,  87.  ,   8.75, 113.  ,   8.53,  93.  ,   4.91,  85.  ,\n",
       "          5.77, 111.  ,   8.29,  95.  ,   6.06, 109.  ,   8.71, 116.  ,\n",
       "          7.93,  94.  ,   5.28,  83.  ,   5.55, 109.  ,   8.86, 118.  ,\n",
       "          5.81, 112.  ,   9.3 , 117.  ,   5.15,  88.  ,   8.72,  92.  ,\n",
       "          8.14,  91.  ,   9.01, 121.  ,   5.47, 111.  ,   4.9 ,  85.  ,\n",
       "          8.97, 116.  ,   4.89,  88.  ,   9.  , 117.  ,   5.74, 109.  ,\n",
       "          8.76, 117.  ,   5.8 , 108.  ,   8.78, 117.  ,   9.23, 114.  ,\n",
       "          8.2 ,  92.  ,   5.05,  86.  ,   8.67,  95.  ,   8.18,  94.  ,\n",
       "          9.03, 118.  ,   8.61,  95.  ,   4.98,  91.  ,   9.13, 118.  ],\n",
       "       [  5.88, 110.  ,   5.01,  86.  ,   4.95,  88.  ,   8.91, 119.  ,\n",
       "          4.96,  89.  ,   4.85,  86.  ,   7.99,  92.  ,   4.76,  90.  ,\n",
       "          8.98, 118.  ,   9.03, 118.  ,   8.08,  94.  ,   8.86, 117.  ,\n",
       "          5.91, 109.  ,   5.67, 111.  ,   8.26,  91.  ,   8.89, 118.  ,\n",
       "          8.25,  95.  ,   5.74, 108.  ,   8.97, 117.  ,   4.98,  87.  ,\n",
       "          4.78,  87.  ,   5.69, 109.  ,   8.4 ,  93.  ,   8.72, 119.  ,\n",
       "          7.84,  97.  ,   5.2 ,  85.  ,   8.08,  98.  ,   6.05, 109.  ,\n",
       "          5.05,  87.  ,   8.25,  96.  ,   8.3 ,  93.  ,   6.14, 111.  ,\n",
       "          5.01,  83.  ,   4.77,  86.  ,   5.74, 112.  ,   8.93, 118.  ,\n",
       "          5.94, 109.  ,   4.68,  87.  ,   7.9 , 100.  ,   7.97,  96.  ,\n",
       "          8.21,  94.  ,   4.81,  85.  ,   5.86, 111.  ,   5.03,  87.  ,\n",
       "          4.98,  87.  ,   8.58, 118.  ,   5.32,  88.  ,   8.94, 117.  ,\n",
       "          6.38, 107.  ,   4.86,  88.  ,   8.6 , 117.  ,   4.89,  85.  ,\n",
       "          8.77, 117.  ,   8.81, 116.  ,   4.88,  86.  ,   8.23,  95.  ,\n",
       "          6.61, 111.  ,   8.54, 118.  ,   6.04, 110.  ,   8.35,  93.  ,\n",
       "          5.01,  86.  ,   8.97, 119.  ,   6.24, 108.  ,   8.33,  92.  ,\n",
       "          8.91, 117.  ,   4.67,  86.  ,   6.1 , 109.  ,   5.15,  85.  ,\n",
       "          4.97,  88.  ,   8.68, 119.  ,   9.06, 120.  ,   5.8 , 110.  ,\n",
       "          8.9 , 117.  ,   4.87,  88.  ,   5.2 ,  89.  ,   8.46,  98.  ,\n",
       "          8.94, 115.  ,   5.87, 108.  ,   4.99,  88.  ,   8.91, 115.  ,\n",
       "          8.91, 117.  ,   5.97, 108.  ,   6.17, 110.  ,   6.01, 107.  ,\n",
       "          7.89,  96.  ,   4.79,  88.  ,   7.91,  93.  ,   8.23,  91.  ,\n",
       "          8.95, 116.  ,   6.33, 111.  ,   8.4 ,  93.  ,   8.44,  94.  ,\n",
       "          4.76,  89.  ,   4.78,  85.  ,   8.79,  96.  ,   4.68,  89.  ,\n",
       "          8.57, 118.  ,   5.85, 112.  ,   6.23, 108.  ,   8.82, 117.  ]])"
      ]
     },
     "execution_count": 40,
     "metadata": {},
     "output_type": "execute_result"
    }
   ],
   "source": [
    "arr2\n"
   ]
  },
  {
   "cell_type": "code",
   "execution_count": 2,
   "id": "49ddc9b1-997e-499c-86a0-8dff64d7ba77",
   "metadata": {},
   "outputs": [
    {
     "ename": "NameError",
     "evalue": "name 'path' is not defined",
     "output_type": "error",
     "traceback": [
      "\u001b[1;31m---------------------------------------------------------------------------\u001b[0m",
      "\u001b[1;31mNameError\u001b[0m                                 Traceback (most recent call last)",
      "Cell \u001b[1;32mIn[2], line 4\u001b[0m\n\u001b[0;32m      1\u001b[0m \u001b[38;5;28;01mimport\u001b[39;00m \u001b[38;5;21;01mpandas\u001b[39;00m \u001b[38;5;28;01mas\u001b[39;00m \u001b[38;5;21;01mpd\u001b[39;00m\n\u001b[0;32m      2\u001b[0m \u001b[38;5;28;01mimport\u001b[39;00m \u001b[38;5;21;01mos\u001b[39;00m\n\u001b[1;32m----> 4\u001b[0m csv_file \u001b[38;5;241m=\u001b[39m os\u001b[38;5;241m.\u001b[39mpath\u001b[38;5;241m.\u001b[39mjoin(\u001b[43mpath\u001b[49m, \u001b[38;5;124m\"\u001b[39m\u001b[38;5;124mIPL Matches 2008-2020.csv\u001b[39m\u001b[38;5;124m\"\u001b[39m)  \u001b[38;5;66;03m# use the exact filename from step 1\u001b[39;00m\n\u001b[0;32m      5\u001b[0m df \u001b[38;5;241m=\u001b[39m pd\u001b[38;5;241m.\u001b[39mread_csv(csv_file)\n\u001b[0;32m      7\u001b[0m \u001b[38;5;28mprint\u001b[39m(df\u001b[38;5;241m.\u001b[39mhead())  \u001b[38;5;66;03m# preview first 5 rows\u001b[39;00m\n",
      "\u001b[1;31mNameError\u001b[0m: name 'path' is not defined"
     ]
    }
   ],
   "source": [
    "import pandas as pd\n",
    "import os\n",
    "\n",
    "csv_file = os.path.join(path, \"IPL Matches 2008-2020.csv\")  # use the exact filename from step 1\n",
    "df = pd.read_csv(csv_file)\n",
    "\n",
    "print(df.head())  # preview first 5 rows"
   ]
  },
  {
   "cell_type": "code",
   "execution_count": null,
   "id": "821ec027-0be7-4555-b8b4-0711ed94aa29",
   "metadata": {},
   "outputs": [],
   "source": []
  }
 ],
 "metadata": {
  "kernelspec": {
   "display_name": "Python 3 (ipykernel)",
   "language": "python",
   "name": "python3"
  },
  "language_info": {
   "codemirror_mode": {
    "name": "ipython",
    "version": 3
   },
   "file_extension": ".py",
   "mimetype": "text/x-python",
   "name": "python",
   "nbconvert_exporter": "python",
   "pygments_lexer": "ipython3",
   "version": "3.12.5"
  }
 },
 "nbformat": 4,
 "nbformat_minor": 5
}
